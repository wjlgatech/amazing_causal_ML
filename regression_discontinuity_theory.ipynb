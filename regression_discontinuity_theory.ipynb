{
  "nbformat": 4,
  "nbformat_minor": 0,
  "metadata": {
    "colab": {
      "name": "regression discontinuity - theory",
      "provenance": [],
      "authorship_tag": "ABX9TyPgGw17+5FWYIKnBZWRIn26",
      "include_colab_link": true
    },
    "kernelspec": {
      "name": "python3",
      "display_name": "Python 3"
    }
  },
  "cells": [
    {
      "cell_type": "markdown",
      "metadata": {
        "id": "view-in-github",
        "colab_type": "text"
      },
      "source": [
        "<a href=\"https://colab.research.google.com/github/hmelberg/causal/blob/master/regression_discontinuity_theory.ipynb\" target=\"_parent\"><img src=\"https://colab.research.google.com/assets/colab-badge.svg\" alt=\"Open In Colab\"/></a>"
      ]
    },
    {
      "cell_type": "markdown",
      "metadata": {
        "id": "9vDz_8nzgD2d",
        "colab_type": "text"
      },
      "source": [
        "#Regression discontinuity"
      ]
    },
    {
      "cell_type": "markdown",
      "metadata": {
        "id": "a-z3BB0OgDz2",
        "colab_type": "text"
      },
      "source": [
        "# Examples\n",
        "- What is the effect of special treatment given to some premature babies with low birth weight?\n",
        "- What is the effect of getting a merit scholarship because of high test scores on college grades?\n",
        "- What is the effect of different legal age limits for drinking alcohol on car accidents?"
      ]
    },
    {
      "cell_type": "markdown",
      "metadata": {
        "id": "hZ_uEcsdgDw5",
        "colab_type": "text"
      },
      "source": [
        "# Intuition\n",
        "- Compare individuals who are just below and just above the threshold\n",
        "- Almost like comparing like to like!"
      ]
    },
    {
      "cell_type": "markdown",
      "metadata": {
        "id": "TZTKNYUGgDuD",
        "colab_type": "text"
      },
      "source": [
        "# How?\n",
        "Some cases:\n",
        "1. Simple linear case\n",
        "- Run a regressioon with dummy for below and above threshold, and only include observations within a given bandwidth\n",
        "$ Health = a + b* Birth__weight + d * Dummy_for_those_above_1500_grams $\n",
        "\n",
        "\n",
        "2. Also\n",
        "- Run a regression, but use distance from threshold (eg. weight difference from threshold)\n",
        "$ Health = a + b* (Birth__weight - 1500) + d * Dummy_for_those_above_1500_grams $\n",
        "\n",
        "NB: More coplex models with different slopes on each side of the threshold\n",
        "\n",
        "3. Polynomial case\n",
        "\n",
        "3. Fuzzy (No clear cut off, just a change in probability)\n",
        "- Use the probability of getting the treatment as an instrumental variable in a Two Stage Least Square regression\n",
        "$ Step 1: Probability of receiving treatment, given weight\n",
        "Treatment_probability = a + b* Birth__weigh $\n",
        "$ Step 2: Health = a + b * Predicted__treatment_probability $\n"
      ]
    },
    {
      "cell_type": "markdown",
      "metadata": {
        "id": "xuXsSCvPgDrS",
        "colab_type": "text"
      },
      "source": [
        "# Assumptions\n",
        "1. Continuity: No other causes change at/with same threshold\n",
        "2. Random at threshold: Individuals cannot influce whether they are just below or above\n"
      ]
    },
    {
      "cell_type": "markdown",
      "metadata": {
        "id": "LIQ3k5qwgDoY",
        "colab_type": "text"
      },
      "source": [
        "# Pros and cons\n",
        "- Pros\n",
        "  - Can be used even if you do not have a lot of data\n",
        "  - Focuses on 'like-to-like' (excludes others) \n",
        "- But's:\n",
        "  - Size of bandwidth=?\n",
        "      * Include graphs with results using different bandwidths\n",
        "  - Mistakenly conclude there is a jump when the true relationship is non-linear\n",
        "  - Too easy to get big effects when using non-linear functional forms?\n",
        "  - Must assume that no othere events happen with the same threshold (Example: If both driver license and alcohol threshold is the same age)\n",
        "  - Must also assume that the individuals cannot influence whether they are just above or just below the threshold (cheat to get a higher score to qualify!)\n",
        "\n",
        "\n",
        "\n"
      ]
    },
    {
      "cell_type": "markdown",
      "metadata": {
        "id": "ShV6xKXXr_CO",
        "colab_type": "text"
      },
      "source": [
        "# Tests\n",
        "1. Random selection? Check density around threshold\n",
        "2. Is the estimate sensitive to the inclusion of other variables (test)\n",
        "3. Descriptive statistics of group just above or below\n"
      ]
    },
    {
      "cell_type": "markdown",
      "metadata": {
        "id": "dLj79gasgDlP",
        "colab_type": "text"
      },
      "source": [
        "# General use cases\n",
        "* When you can identify a threshold, for instance: age, grade, income, geographic, size, weigh"
      ]
    }
  ]
}