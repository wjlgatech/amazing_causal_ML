{
  "nbformat": 4,
  "nbformat_minor": 0,
  "metadata": {
    "kernelspec": {
      "display_name": "Python 3",
      "language": "python",
      "name": "python3"
    },
    "language_info": {
      "codemirror_mode": {
        "name": "ipython",
        "version": 3
      },
      "file_extension": ".py",
      "mimetype": "text/x-python",
      "name": "python",
      "nbconvert_exporter": "python",
      "pygments_lexer": "ipython3",
      "version": "3.7.0"
    },
    "varInspector": {
      "cols": {
        "lenName": 16,
        "lenType": 16,
        "lenVar": 40
      },
      "kernels_config": {
        "python": {
          "delete_cmd_postfix": "",
          "delete_cmd_prefix": "del ",
          "library": "var_list.py",
          "varRefreshCmd": "print(var_dic_list())"
        },
        "r": {
          "delete_cmd_postfix": ") ",
          "delete_cmd_prefix": "rm(",
          "library": "var_list.r",
          "varRefreshCmd": "cat(var_dic_list()) "
        }
      },
      "types_to_exclude": [
        "module",
        "function",
        "builtin_function_or_method",
        "instance",
        "_Feature"
      ],
      "window_display": false
    },
    "colab": {
      "name": "5 instrumental variables-checkpoint.ipynb",
      "provenance": [],
      "include_colab_link": true
    }
  },
  "cells": [
    {
      "cell_type": "markdown",
      "metadata": {
        "id": "view-in-github",
        "colab_type": "text"
      },
      "source": [
        "<a href=\"https://colab.research.google.com/github/hmelberg/causal/blob/master/5%20instrumental%20variables-checkpoint.ipynb\" target=\"_parent\"><img src=\"https://colab.research.google.com/assets/colab-badge.svg\" alt=\"Open In Colab\"/></a>"
      ]
    },
    {
      "cell_type": "markdown",
      "metadata": {
        "id": "JA-Z4USF55SE"
      },
      "source": [
        "# Instrumental variables"
      ]
    },
    {
      "cell_type": "markdown",
      "metadata": {
        "id": "9IkzCN8z55SF"
      },
      "source": [
        "Example: Does financial aid help to make children finish school?"
      ]
    },
    {
      "cell_type": "code",
      "metadata": {
        "id": "Oh8pEu1N55SG"
      },
      "source": [
        "import pandas as pd\n",
        "import statsmodels.api as sm\n",
        "import statsmodels.formula.api as smf\n",
        "import matplotlib.pyplot as plt\n",
        "import seaborn as sns"
      ],
      "execution_count": 30,
      "outputs": []
    },
    {
      "cell_type": "code",
      "metadata": {
        "id": "Y5N9KeHj55SL"
      },
      "source": [
        "# enable graphs\n",
        "%matplotlib inline"
      ],
      "execution_count": 31,
      "outputs": []
    },
    {
      "cell_type": "markdown",
      "metadata": {
        "id": "ANmCYtMs55SN"
      },
      "source": [
        "## Data"
      ]
    },
    {
      "cell_type": "markdown",
      "metadata": {
        "id": "SovFBzSM55SO"
      },
      "source": [
        "- finish8th: did the student finish 8th grade or not (outcome variable)\n",
        "- won_lottry: won the lottery to receive offer of financial aid\n",
        "- use_fin_aid: did the student use financial aid of any kind (not exclusive to the lottery) or not\n",
        "- base_age: student age\n",
        "- male: is the student male or not"
      ]
    },
    {
      "cell_type": "code",
      "metadata": {
        "id": "jfqAARXsEt94"
      },
      "source": [
        "# read data\n",
        "df=pd.read_stata(\"https://www.dropbox.com/s/owluyituxrdm4g1/iv_voucher_data.dta?dl=1\")"
      ],
      "execution_count": 33,
      "outputs": []
    },
    {
      "cell_type": "code",
      "metadata": {
        "id": "CzK8LV5v55SR",
        "outputId": "200a283c-8359-4e4b-a3c9-e663ba3e5ad3",
        "colab": {
          "base_uri": "https://localhost:8080/",
          "height": 203
        }
      },
      "source": [
        "#%% basic descriptive\n",
        "df.head()"
      ],
      "execution_count": 34,
      "outputs": [
        {
          "output_type": "execute_result",
          "data": {
            "text/html": [
              "<div>\n",
              "<style scoped>\n",
              "    .dataframe tbody tr th:only-of-type {\n",
              "        vertical-align: middle;\n",
              "    }\n",
              "\n",
              "    .dataframe tbody tr th {\n",
              "        vertical-align: top;\n",
              "    }\n",
              "\n",
              "    .dataframe thead th {\n",
              "        text-align: right;\n",
              "    }\n",
              "</style>\n",
              "<table border=\"1\" class=\"dataframe\">\n",
              "  <thead>\n",
              "    <tr style=\"text-align: right;\">\n",
              "      <th></th>\n",
              "      <th>id</th>\n",
              "      <th>won_lottry</th>\n",
              "      <th>male</th>\n",
              "      <th>base_age</th>\n",
              "      <th>finish8th</th>\n",
              "      <th>use_fin_aid</th>\n",
              "    </tr>\n",
              "  </thead>\n",
              "  <tbody>\n",
              "    <tr>\n",
              "      <th>0</th>\n",
              "      <td>3</td>\n",
              "      <td>1</td>\n",
              "      <td>0</td>\n",
              "      <td>11</td>\n",
              "      <td>1</td>\n",
              "      <td>1</td>\n",
              "    </tr>\n",
              "    <tr>\n",
              "      <th>1</th>\n",
              "      <td>4</td>\n",
              "      <td>0</td>\n",
              "      <td>1</td>\n",
              "      <td>11</td>\n",
              "      <td>1</td>\n",
              "      <td>1</td>\n",
              "    </tr>\n",
              "    <tr>\n",
              "      <th>2</th>\n",
              "      <td>5</td>\n",
              "      <td>0</td>\n",
              "      <td>1</td>\n",
              "      <td>11</td>\n",
              "      <td>1</td>\n",
              "      <td>0</td>\n",
              "    </tr>\n",
              "    <tr>\n",
              "      <th>3</th>\n",
              "      <td>6</td>\n",
              "      <td>0</td>\n",
              "      <td>0</td>\n",
              "      <td>9</td>\n",
              "      <td>0</td>\n",
              "      <td>0</td>\n",
              "    </tr>\n",
              "    <tr>\n",
              "      <th>4</th>\n",
              "      <td>10</td>\n",
              "      <td>1</td>\n",
              "      <td>1</td>\n",
              "      <td>11</td>\n",
              "      <td>1</td>\n",
              "      <td>1</td>\n",
              "    </tr>\n",
              "  </tbody>\n",
              "</table>\n",
              "</div>"
            ],
            "text/plain": [
              "   id  won_lottry  male  base_age  finish8th  use_fin_aid\n",
              "0   3           1     0        11          1            1\n",
              "1   4           0     1        11          1            1\n",
              "2   5           0     1        11          1            0\n",
              "3   6           0     0         9          0            0\n",
              "4  10           1     1        11          1            1"
            ]
          },
          "metadata": {
            "tags": []
          },
          "execution_count": 34
        }
      ]
    },
    {
      "cell_type": "code",
      "metadata": {
        "id": "IoY77g4p55ST",
        "outputId": "6cdb3544-ec78-4226-8ed6-99bcaf50c478",
        "colab": {
          "base_uri": "https://localhost:8080/",
          "height": 34
        }
      },
      "source": [
        "df.columns"
      ],
      "execution_count": 35,
      "outputs": [
        {
          "output_type": "execute_result",
          "data": {
            "text/plain": [
              "Index(['id', 'won_lottry', 'male', 'base_age', 'finish8th', 'use_fin_aid'], dtype='object')"
            ]
          },
          "metadata": {
            "tags": []
          },
          "execution_count": 35
        }
      ]
    },
    {
      "cell_type": "code",
      "metadata": {
        "id": "qsDLxgND55SZ",
        "outputId": "4245b720-51d7-46c8-d2f1-8bb7fd8ec170",
        "colab": {
          "base_uri": "https://localhost:8080/",
          "height": 296
        }
      },
      "source": [
        "df.describe()"
      ],
      "execution_count": 36,
      "outputs": [
        {
          "output_type": "execute_result",
          "data": {
            "text/html": [
              "<div>\n",
              "<style scoped>\n",
              "    .dataframe tbody tr th:only-of-type {\n",
              "        vertical-align: middle;\n",
              "    }\n",
              "\n",
              "    .dataframe tbody tr th {\n",
              "        vertical-align: top;\n",
              "    }\n",
              "\n",
              "    .dataframe thead th {\n",
              "        text-align: right;\n",
              "    }\n",
              "</style>\n",
              "<table border=\"1\" class=\"dataframe\">\n",
              "  <thead>\n",
              "    <tr style=\"text-align: right;\">\n",
              "      <th></th>\n",
              "      <th>id</th>\n",
              "      <th>won_lottry</th>\n",
              "      <th>male</th>\n",
              "      <th>base_age</th>\n",
              "      <th>finish8th</th>\n",
              "      <th>use_fin_aid</th>\n",
              "    </tr>\n",
              "  </thead>\n",
              "  <tbody>\n",
              "    <tr>\n",
              "      <th>count</th>\n",
              "      <td>1171.000000</td>\n",
              "      <td>1171.000000</td>\n",
              "      <td>1171.000000</td>\n",
              "      <td>1171.000000</td>\n",
              "      <td>1171.000000</td>\n",
              "      <td>1171.000000</td>\n",
              "    </tr>\n",
              "    <tr>\n",
              "      <th>mean</th>\n",
              "      <td>1357.010248</td>\n",
              "      <td>0.505551</td>\n",
              "      <td>0.504697</td>\n",
              "      <td>12.004270</td>\n",
              "      <td>0.681469</td>\n",
              "      <td>0.581554</td>\n",
              "    </tr>\n",
              "    <tr>\n",
              "      <th>std</th>\n",
              "      <td>890.711584</td>\n",
              "      <td>0.500183</td>\n",
              "      <td>0.500192</td>\n",
              "      <td>1.347038</td>\n",
              "      <td>0.466106</td>\n",
              "      <td>0.493515</td>\n",
              "    </tr>\n",
              "    <tr>\n",
              "      <th>min</th>\n",
              "      <td>3.000000</td>\n",
              "      <td>0.000000</td>\n",
              "      <td>0.000000</td>\n",
              "      <td>7.000000</td>\n",
              "      <td>0.000000</td>\n",
              "      <td>0.000000</td>\n",
              "    </tr>\n",
              "    <tr>\n",
              "      <th>25%</th>\n",
              "      <td>616.000000</td>\n",
              "      <td>0.000000</td>\n",
              "      <td>0.000000</td>\n",
              "      <td>11.000000</td>\n",
              "      <td>0.000000</td>\n",
              "      <td>0.000000</td>\n",
              "    </tr>\n",
              "    <tr>\n",
              "      <th>50%</th>\n",
              "      <td>1280.000000</td>\n",
              "      <td>1.000000</td>\n",
              "      <td>1.000000</td>\n",
              "      <td>12.000000</td>\n",
              "      <td>1.000000</td>\n",
              "      <td>1.000000</td>\n",
              "    </tr>\n",
              "    <tr>\n",
              "      <th>75%</th>\n",
              "      <td>1982.500000</td>\n",
              "      <td>1.000000</td>\n",
              "      <td>1.000000</td>\n",
              "      <td>13.000000</td>\n",
              "      <td>1.000000</td>\n",
              "      <td>1.000000</td>\n",
              "    </tr>\n",
              "    <tr>\n",
              "      <th>max</th>\n",
              "      <td>4030.000000</td>\n",
              "      <td>1.000000</td>\n",
              "      <td>1.000000</td>\n",
              "      <td>17.000000</td>\n",
              "      <td>1.000000</td>\n",
              "      <td>1.000000</td>\n",
              "    </tr>\n",
              "  </tbody>\n",
              "</table>\n",
              "</div>"
            ],
            "text/plain": [
              "                id   won_lottry  ...    finish8th  use_fin_aid\n",
              "count  1171.000000  1171.000000  ...  1171.000000  1171.000000\n",
              "mean   1357.010248     0.505551  ...     0.681469     0.581554\n",
              "std     890.711584     0.500183  ...     0.466106     0.493515\n",
              "min       3.000000     0.000000  ...     0.000000     0.000000\n",
              "25%     616.000000     0.000000  ...     0.000000     0.000000\n",
              "50%    1280.000000     1.000000  ...     1.000000     1.000000\n",
              "75%    1982.500000     1.000000  ...     1.000000     1.000000\n",
              "max    4030.000000     1.000000  ...     1.000000     1.000000\n",
              "\n",
              "[8 rows x 6 columns]"
            ]
          },
          "metadata": {
            "tags": []
          },
          "execution_count": 36
        }
      ]
    },
    {
      "cell_type": "markdown",
      "metadata": {
        "id": "fI_o-3_J55Sd"
      },
      "source": [
        "# Basic (Naive) analysis"
      ]
    },
    {
      "cell_type": "code",
      "metadata": {
        "id": "cx1HCoUXCUP9"
      },
      "source": [
        "df.columns"
      ],
      "execution_count": null,
      "outputs": []
    },
    {
      "cell_type": "code",
      "metadata": {
        "id": "2jV_JEU255Sd",
        "outputId": "5ee65cb9-6d20-4598-abc1-c65153310aa2",
        "colab": {
          "base_uri": "https://localhost:8080/",
          "height": 277
        }
      },
      "source": [
        "#%% basic and naive canalysis, comparing averages: did financial aid help?\n",
        "\n",
        "# plot avarage comparing those who received financial aid and those who did not\n",
        "df.groupby('use_fin_aid')['finish8th'].mean().plot(kind = 'bar');"
      ],
      "execution_count": 37,
      "outputs": [
        {
          "output_type": "display_data",
          "data": {
            "image/png": "[encoded data removed]",
            "text/plain": [
              "<Figure size 432x288 with 1 Axes>"
            ]
          },
          "metadata": {
            "tags": [],
            "needs_background": "light"
          }
        }
      ]
    },
    {
      "cell_type": "code",
      "metadata": {
        "id": "iefVfvLo55Sg",
        "outputId": "8beba57b-d566-494c-a4d2-55e3fd50b1d4",
        "colab": {
          "base_uri": "https://localhost:8080/",
          "height": 87
        }
      },
      "source": [
        "# calculate the absolute and precentage differences\n",
        "\n",
        "df.groupby('use_fin_aid')['finish8th'].mean().diff()"
      ],
      "execution_count": 38,
      "outputs": [
        {
          "output_type": "execute_result",
          "data": {
            "text/plain": [
              "use_fin_aid\n",
              "0        NaN\n",
              "1    0.13307\n",
              "Name: finish8th, dtype: float64"
            ]
          },
          "metadata": {
            "tags": []
          },
          "execution_count": 38
        }
      ]
    },
    {
      "cell_type": "code",
      "metadata": {
        "id": "ONh0lq0j55Si",
        "outputId": "ff7d25d9-4da7-4ee6-c9c7-89de09e7a2c8",
        "colab": {
          "base_uri": "https://localhost:8080/",
          "height": 87
        }
      },
      "source": [
        "df.groupby('use_fin_aid')['finish8th'].mean().pct_change()"
      ],
      "execution_count": 39,
      "outputs": [
        {
          "output_type": "execute_result",
          "data": {
            "text/plain": [
              "use_fin_aid\n",
              "0         NaN\n",
              "1    0.220284\n",
              "Name: finish8th, dtype: float64"
            ]
          },
          "metadata": {
            "tags": []
          },
          "execution_count": 39
        }
      ]
    },
    {
      "cell_type": "code",
      "metadata": {
        "id": "WlMqYYoW55Sk",
        "outputId": "fd43a450-d2b3-476b-e6d2-3f428a80070e",
        "colab": {
          "base_uri": "https://localhost:8080/",
          "height": 327
        }
      },
      "source": [
        "#%% ordinary regression\n",
        "\n",
        "model = \"finish8th ~ use_fin_aid + male + base_age\"\n",
        "\n",
        "ols_results = sm.formula.logit(model, data = df).fit()\n",
        "\n",
        "ols_results.summary()"
      ],
      "execution_count": 40,
      "outputs": [
        {
          "output_type": "stream",
          "text": [
            "Optimization terminated successfully.\n",
            "         Current function value: 0.593505\n",
            "         Iterations 5\n"
          ],
          "name": "stdout"
        },
        {
          "output_type": "execute_result",
          "data": {
            "text/html": [
              "<table class=\"simpletable\">\n",
              "<caption>Logit Regression Results</caption>\n",
              "<tr>\n",
              "  <th>Dep. Variable:</th>       <td>finish8th</td>    <th>  No. Observations:  </th>  <td>  1171</td>  \n",
              "</tr>\n",
              "<tr>\n",
              "  <th>Model:</th>                 <td>Logit</td>      <th>  Df Residuals:      </th>  <td>  1167</td>  \n",
              "</tr>\n",
              "<tr>\n",
              "  <th>Method:</th>                 <td>MLE</td>       <th>  Df Model:          </th>  <td>     3</td>  \n",
              "</tr>\n",
              "<tr>\n",
              "  <th>Date:</th>            <td>Mon, 28 Sep 2020</td> <th>  Pseudo R-squ.:     </th>  <td>0.05154</td> \n",
              "</tr>\n",
              "<tr>\n",
              "  <th>Time:</th>                <td>00:26:48</td>     <th>  Log-Likelihood:    </th> <td> -694.99</td> \n",
              "</tr>\n",
              "<tr>\n",
              "  <th>converged:</th>             <td>True</td>       <th>  LL-Null:           </th> <td> -732.76</td> \n",
              "</tr>\n",
              "<tr>\n",
              "  <th>Covariance Type:</th>     <td>nonrobust</td>    <th>  LLR p-value:       </th> <td>2.784e-16</td>\n",
              "</tr>\n",
              "</table>\n",
              "<table class=\"simpletable\">\n",
              "<tr>\n",
              "       <td></td>          <th>coef</th>     <th>std err</th>      <th>z</th>      <th>P>|z|</th>  <th>[0.025</th>    <th>0.975]</th>  \n",
              "</tr>\n",
              "<tr>\n",
              "  <th>Intercept</th>   <td>    4.2496</td> <td>    0.596</td> <td>    7.128</td> <td> 0.000</td> <td>    3.081</td> <td>    5.418</td>\n",
              "</tr>\n",
              "<tr>\n",
              "  <th>use_fin_aid</th> <td>    0.5773</td> <td>    0.130</td> <td>    4.441</td> <td> 0.000</td> <td>    0.323</td> <td>    0.832</td>\n",
              "</tr>\n",
              "<tr>\n",
              "  <th>male</th>        <td>   -0.4192</td> <td>    0.130</td> <td>   -3.216</td> <td> 0.001</td> <td>   -0.675</td> <td>   -0.164</td>\n",
              "</tr>\n",
              "<tr>\n",
              "  <th>base_age</th>    <td>   -0.2967</td> <td>    0.048</td> <td>   -6.156</td> <td> 0.000</td> <td>   -0.391</td> <td>   -0.202</td>\n",
              "</tr>\n",
              "</table>"
            ],
            "text/plain": [
              "<class 'statsmodels.iolib.summary.Summary'>\n",
              "\"\"\"\n",
              "                           Logit Regression Results                           \n",
              "==============================================================================\n",
              "Dep. Variable:              finish8th   No. Observations:                 1171\n",
              "Model:                          Logit   Df Residuals:                     1167\n",
              "Method:                           MLE   Df Model:                            3\n",
              "Date:                Mon, 28 Sep 2020   Pseudo R-squ.:                 0.05154\n",
              "Time:                        00:26:48   Log-Likelihood:                -694.99\n",
              "converged:                       True   LL-Null:                       -732.76\n",
              "Covariance Type:            nonrobust   LLR p-value:                 2.784e-16\n",
              "===============================================================================\n",
              "                  coef    std err          z      P>|z|      [0.025      0.975]\n",
              "-------------------------------------------------------------------------------\n",
              "Intercept       4.2496      0.596      7.128      0.000       3.081       5.418\n",
              "use_fin_aid     0.5773      0.130      4.441      0.000       0.323       0.832\n",
              "male           -0.4192      0.130     -3.216      0.001      -0.675      -0.164\n",
              "base_age       -0.2967      0.048     -6.156      0.000      -0.391      -0.202\n",
              "===============================================================================\n",
              "\"\"\""
            ]
          },
          "metadata": {
            "tags": []
          },
          "execution_count": 40
        }
      ]
    },
    {
      "cell_type": "code",
      "metadata": {
        "id": "EUItzzX155Sn"
      },
      "source": [
        "#%% Instrumental variables: Use \"won lottry\" as an instrument\n",
        "\n",
        "# Is there a correlation?"
      ],
      "execution_count": null,
      "outputs": []
    },
    {
      "cell_type": "code",
      "metadata": {
        "id": "1HAh0pRY55Sp",
        "outputId": "4459925c-1b21-414c-a5ab-3f2570bfaf99",
        "colab": {
          "base_uri": "https://localhost:8080/",
          "height": 110
        }
      },
      "source": [
        "df[['won_lottry', 'use_fin_aid']].corr()"
      ],
      "execution_count": 41,
      "outputs": [
        {
          "output_type": "execute_result",
          "data": {
            "text/html": [
              "<div>\n",
              "<style scoped>\n",
              "    .dataframe tbody tr th:only-of-type {\n",
              "        vertical-align: middle;\n",
              "    }\n",
              "\n",
              "    .dataframe tbody tr th {\n",
              "        vertical-align: top;\n",
              "    }\n",
              "\n",
              "    .dataframe thead th {\n",
              "        text-align: right;\n",
              "    }\n",
              "</style>\n",
              "<table border=\"1\" class=\"dataframe\">\n",
              "  <thead>\n",
              "    <tr style=\"text-align: right;\">\n",
              "      <th></th>\n",
              "      <th>won_lottry</th>\n",
              "      <th>use_fin_aid</th>\n",
              "    </tr>\n",
              "  </thead>\n",
              "  <tbody>\n",
              "    <tr>\n",
              "      <th>won_lottry</th>\n",
              "      <td>1.000000</td>\n",
              "      <td>0.684598</td>\n",
              "    </tr>\n",
              "    <tr>\n",
              "      <th>use_fin_aid</th>\n",
              "      <td>0.684598</td>\n",
              "      <td>1.000000</td>\n",
              "    </tr>\n",
              "  </tbody>\n",
              "</table>\n",
              "</div>"
            ],
            "text/plain": [
              "             won_lottry  use_fin_aid\n",
              "won_lottry     1.000000     0.684598\n",
              "use_fin_aid    0.684598     1.000000"
            ]
          },
          "metadata": {
            "tags": []
          },
          "execution_count": 41
        }
      ]
    },
    {
      "cell_type": "code",
      "metadata": {
        "id": "eulIF2P255Ss"
      },
      "source": [
        "# First step: Model how lottery (instrument) affects financial aid use"
      ],
      "execution_count": null,
      "outputs": []
    },
    {
      "cell_type": "code",
      "metadata": {
        "id": "RE0S7Nv155Su",
        "outputId": "b0618d86-5cad-471c-8b31-2daddeb7c78c",
        "colab": {
          "base_uri": "https://localhost:8080/",
          "height": 327
        }
      },
      "source": [
        "stage1_model = \"use_fin_aid ~ won_lottry + male + base_age\"\n",
        "\n",
        "stage1_results = sm.formula.logit(stage1_model, data = df).fit()\n",
        "\n",
        "stage1_results.summary()"
      ],
      "execution_count": 42,
      "outputs": [
        {
          "output_type": "stream",
          "text": [
            "Optimization terminated successfully.\n",
            "         Current function value: 0.416735\n",
            "         Iterations 6\n"
          ],
          "name": "stdout"
        },
        {
          "output_type": "execute_result",
          "data": {
            "text/html": [
              "<table class=\"simpletable\">\n",
              "<caption>Logit Regression Results</caption>\n",
              "<tr>\n",
              "  <th>Dep. Variable:</th>      <td>use_fin_aid</td>   <th>  No. Observations:  </th>   <td>  1171</td>  \n",
              "</tr>\n",
              "<tr>\n",
              "  <th>Model:</th>                 <td>Logit</td>      <th>  Df Residuals:      </th>   <td>  1167</td>  \n",
              "</tr>\n",
              "<tr>\n",
              "  <th>Method:</th>                 <td>MLE</td>       <th>  Df Model:          </th>   <td>     3</td>  \n",
              "</tr>\n",
              "<tr>\n",
              "  <th>Date:</th>            <td>Mon, 28 Sep 2020</td> <th>  Pseudo R-squ.:     </th>   <td>0.3870</td>  \n",
              "</tr>\n",
              "<tr>\n",
              "  <th>Time:</th>                <td>00:28:42</td>     <th>  Log-Likelihood:    </th>  <td> -488.00</td> \n",
              "</tr>\n",
              "<tr>\n",
              "  <th>converged:</th>             <td>True</td>       <th>  LL-Null:           </th>  <td> -796.03</td> \n",
              "</tr>\n",
              "<tr>\n",
              "  <th>Covariance Type:</th>     <td>nonrobust</td>    <th>  LLR p-value:       </th> <td>3.318e-133</td>\n",
              "</tr>\n",
              "</table>\n",
              "<table class=\"simpletable\">\n",
              "<tr>\n",
              "       <td></td>         <th>coef</th>     <th>std err</th>      <th>z</th>      <th>P>|z|</th>  <th>[0.025</th>    <th>0.975]</th>  \n",
              "</tr>\n",
              "<tr>\n",
              "  <th>Intercept</th>  <td>    0.3455</td> <td>    0.731</td> <td>    0.472</td> <td> 0.637</td> <td>   -1.088</td> <td>    1.779</td>\n",
              "</tr>\n",
              "<tr>\n",
              "  <th>won_lottry</th> <td>    3.5514</td> <td>    0.178</td> <td>   19.934</td> <td> 0.000</td> <td>    3.202</td> <td>    3.901</td>\n",
              "</tr>\n",
              "<tr>\n",
              "  <th>male</th>       <td>   -0.1622</td> <td>    0.164</td> <td>   -0.992</td> <td> 0.321</td> <td>   -0.483</td> <td>    0.158</td>\n",
              "</tr>\n",
              "<tr>\n",
              "  <th>base_age</th>   <td>   -0.1184</td> <td>    0.061</td> <td>   -1.946</td> <td> 0.052</td> <td>   -0.238</td> <td>    0.001</td>\n",
              "</tr>\n",
              "</table>"
            ],
            "text/plain": [
              "<class 'statsmodels.iolib.summary.Summary'>\n",
              "\"\"\"\n",
              "                           Logit Regression Results                           \n",
              "==============================================================================\n",
              "Dep. Variable:            use_fin_aid   No. Observations:                 1171\n",
              "Model:                          Logit   Df Residuals:                     1167\n",
              "Method:                           MLE   Df Model:                            3\n",
              "Date:                Mon, 28 Sep 2020   Pseudo R-squ.:                  0.3870\n",
              "Time:                        00:28:42   Log-Likelihood:                -488.00\n",
              "converged:                       True   LL-Null:                       -796.03\n",
              "Covariance Type:            nonrobust   LLR p-value:                3.318e-133\n",
              "==============================================================================\n",
              "                 coef    std err          z      P>|z|      [0.025      0.975]\n",
              "------------------------------------------------------------------------------\n",
              "Intercept      0.3455      0.731      0.472      0.637      -1.088       1.779\n",
              "won_lottry     3.5514      0.178     19.934      0.000       3.202       3.901\n",
              "male          -0.1622      0.164     -0.992      0.321      -0.483       0.158\n",
              "base_age      -0.1184      0.061     -1.946      0.052      -0.238       0.001\n",
              "==============================================================================\n",
              "\"\"\""
            ]
          },
          "metadata": {
            "tags": []
          },
          "execution_count": 42
        }
      ]
    },
    {
      "cell_type": "code",
      "metadata": {
        "id": "1SQttdTc55Sx"
      },
      "source": [
        "# create variable with predicted value from the regression\n",
        "\n",
        "df['predicted_use_fin_aid'] = stage1_results.predict()"
      ],
      "execution_count": 43,
      "outputs": []
    },
    {
      "cell_type": "code",
      "metadata": {
        "id": "qZFm7n_p55Sz",
        "outputId": "3331d3f3-559d-43c2-92fe-089e82b665c0",
        "colab": {
          "base_uri": "https://localhost:8080/",
          "height": 327
        }
      },
      "source": [
        "# Second step: Predict effect using predicted fin. aid as a variable\n",
        "\n",
        "stage2_model = \"finish8th ~ predicted_use_fin_aid + male + base_age\"\n",
        "\n",
        "iv_results = sm.formula.logit(stage2_model, data = df).fit()\n",
        "\n",
        "iv_results.summary()"
      ],
      "execution_count": 44,
      "outputs": [
        {
          "output_type": "stream",
          "text": [
            "Optimization terminated successfully.\n",
            "         Current function value: 0.594917\n",
            "         Iterations 5\n"
          ],
          "name": "stdout"
        },
        {
          "output_type": "execute_result",
          "data": {
            "text/html": [
              "<table class=\"simpletable\">\n",
              "<caption>Logit Regression Results</caption>\n",
              "<tr>\n",
              "  <th>Dep. Variable:</th>       <td>finish8th</td>    <th>  No. Observations:  </th>  <td>  1171</td>  \n",
              "</tr>\n",
              "<tr>\n",
              "  <th>Model:</th>                 <td>Logit</td>      <th>  Df Residuals:      </th>  <td>  1167</td>  \n",
              "</tr>\n",
              "<tr>\n",
              "  <th>Method:</th>                 <td>MLE</td>       <th>  Df Model:          </th>  <td>     3</td>  \n",
              "</tr>\n",
              "<tr>\n",
              "  <th>Date:</th>            <td>Mon, 28 Sep 2020</td> <th>  Pseudo R-squ.:     </th>  <td>0.04928</td> \n",
              "</tr>\n",
              "<tr>\n",
              "  <th>Time:</th>                <td>00:30:35</td>     <th>  Log-Likelihood:    </th> <td> -696.65</td> \n",
              "</tr>\n",
              "<tr>\n",
              "  <th>converged:</th>             <td>True</td>       <th>  LL-Null:           </th> <td> -732.76</td> \n",
              "</tr>\n",
              "<tr>\n",
              "  <th>Covariance Type:</th>     <td>nonrobust</td>    <th>  LLR p-value:       </th> <td>1.423e-15</td>\n",
              "</tr>\n",
              "</table>\n",
              "<table class=\"simpletable\">\n",
              "<tr>\n",
              "            <td></td>               <th>coef</th>     <th>std err</th>      <th>z</th>      <th>P>|z|</th>  <th>[0.025</th>    <th>0.975]</th>  \n",
              "</tr>\n",
              "<tr>\n",
              "  <th>Intercept</th>             <td>    4.0756</td> <td>    0.604</td> <td>    6.753</td> <td> 0.000</td> <td>    2.893</td> <td>    5.258</td>\n",
              "</tr>\n",
              "<tr>\n",
              "  <th>predicted_use_fin_aid</th> <td>    0.7743</td> <td>    0.192</td> <td>    4.036</td> <td> 0.000</td> <td>    0.398</td> <td>    1.150</td>\n",
              "</tr>\n",
              "<tr>\n",
              "  <th>male</th>                  <td>   -0.4175</td> <td>    0.130</td> <td>   -3.208</td> <td> 0.001</td> <td>   -0.673</td> <td>   -0.162</td>\n",
              "</tr>\n",
              "<tr>\n",
              "  <th>base_age</th>              <td>   -0.2919</td> <td>    0.048</td> <td>   -6.077</td> <td> 0.000</td> <td>   -0.386</td> <td>   -0.198</td>\n",
              "</tr>\n",
              "</table>"
            ],
            "text/plain": [
              "<class 'statsmodels.iolib.summary.Summary'>\n",
              "\"\"\"\n",
              "                           Logit Regression Results                           \n",
              "==============================================================================\n",
              "Dep. Variable:              finish8th   No. Observations:                 1171\n",
              "Model:                          Logit   Df Residuals:                     1167\n",
              "Method:                           MLE   Df Model:                            3\n",
              "Date:                Mon, 28 Sep 2020   Pseudo R-squ.:                 0.04928\n",
              "Time:                        00:30:35   Log-Likelihood:                -696.65\n",
              "converged:                       True   LL-Null:                       -732.76\n",
              "Covariance Type:            nonrobust   LLR p-value:                 1.423e-15\n",
              "=========================================================================================\n",
              "                            coef    std err          z      P>|z|      [0.025      0.975]\n",
              "-----------------------------------------------------------------------------------------\n",
              "Intercept                 4.0756      0.604      6.753      0.000       2.893       5.258\n",
              "predicted_use_fin_aid     0.7743      0.192      4.036      0.000       0.398       1.150\n",
              "male                     -0.4175      0.130     -3.208      0.001      -0.673      -0.162\n",
              "base_age                 -0.2919      0.048     -6.077      0.000      -0.386      -0.198\n",
              "=========================================================================================\n",
              "\"\"\""
            ]
          },
          "metadata": {
            "tags": []
          },
          "execution_count": 44
        }
      ]
    },
    {
      "cell_type": "code",
      "metadata": {
        "id": "FfRb54y255S1"
      },
      "source": [
        ""
      ],
      "execution_count": null,
      "outputs": []
    }
  ]
}