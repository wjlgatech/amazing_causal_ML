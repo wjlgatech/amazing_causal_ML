{
 "cells": [
  {
   "cell_type": "markdown",
   "metadata": {},
   "source": [
    "# Causal inferene - An overview and some tools"
   ]
  },
  {
   "cell_type": "markdown",
   "metadata": {},
   "source": [
    "This is an overview of some talks, books, blogposts and packages that are useful if you are interested in causal inference"
   ]
  },
  {
   "cell_type": "markdown",
   "metadata": {},
   "source": [
    "Hans Olav Melberg,\n",
    "University of Oslo"
   ]
  },
  {
   "cell_type": "markdown",
   "metadata": {},
   "source": [
    "## Texts\n",
    "-Note: Some of these references are relatively accessible, but some are difficult. I include them for future references for those who will continue to do work in this area\n",
    "- [If correlation doesn't imply causation then what does?](\n",
    "http://www.michaelnielsen.org/ddi/if-correlation-doesnt-imply-causation-then-what-does/) - Michael Nielsen\n",
    "- [Causal Inference - Slides from a presentation](http://seanjtaylor.github.io/CausalInference/#/) - Sean J. Taylor\n",
    "- [Notebooks on causality and methods](https://ericmjl.github.io/causality/) - ericmjl\n",
    "- [Notes on causal inference (Notebooks)](https://github.com/ijmbarr/notes-on-causal-inference) - ijmbarr\n",
    "- [Causal inference with python part 1 potential outcomes](http://www.degeneratestate.org/posts/2018/Mar/24/causal-inference-with-python-part-1-potential-outcomes/) - Iain\n",
    "- [Advanced data analysis from an elementary point of view](http://www.stat.cmu.edu/~cshalizi/ADAfaEPoV/) - Cosma Rohilla Shalizi\n",
    "- [Causal inference book/](https://www.hsph.harvard.edu/miguel-hernan/causal-inference-book/) - Miguel Hernan\n",
    "- [Speaker_slides: Causality](http://mlss.tuebingen.mpg.de/2017/speaker_slides/Causality.pdf) - Dominik Janzing & Bernhard Schölkopf"
   ]
  },
  {
   "cell_type": "markdown",
   "metadata": {},
   "source": [
    "## Videos\n",
    "- [Causal inference tutorial](https://mediasite.kellogg.northwestern.edu/Mediasite/Play/8e78dc83c6fb4d20abeeb18028a8f7071d?catalog=1533bdef-0c88-4513-ad97-5fce50c92e62) ([copy of slides and code](https://github.com/amit-sharma/causal-inference-tutorial/)) - Amit Sharma\n"
   ]
  },
  {
   "cell_type": "markdown",
   "metadata": {},
   "source": [
    "## Packages\n",
    "- [doWhy](https://causalinference.gitlab.io/dowhy/) - Amit Sharma\n",
    "- [Causal inference in python](http://causalinferenceinpython.org/) - Lawrence Wong\n",
    "- [Causality](https://github.com/akelleh/causality) - ahelleh\n"
   ]
  },
  {
   "cell_type": "markdown",
   "metadata": {},
   "source": [
    "# Example: Using Lawrence Wong's package"
   ]
  },
  {
   "cell_type": "code",
   "execution_count": 2,
   "metadata": {},
   "outputs": [
    {
     "name": "stdout",
     "output_type": "stream",
     "text": [
      "Collecting causalinference\n",
      "\u001b[31mmkl-random 1.0.1 requires cython, which is not installed.\u001b[0m\n",
      "Installing collected packages: causalinference\n",
      "Successfully installed causalinference-0.1.2\n",
      "\u001b[33mYou are using pip version 10.0.1, however version 18.1 is available.\n",
      "You should consider upgrading via the 'pip install --upgrade pip' command.\u001b[0m\n"
     ]
    }
   ],
   "source": [
    "#install the package (only need to do this once)\n",
    "!pip install causalinference --user"
   ]
  },
  {
   "cell_type": "code",
   "execution_count": 2,
   "metadata": {},
   "outputs": [],
   "source": [
    "import pandas as pd"
   ]
  },
  {
   "cell_type": "code",
   "execution_count": 3,
   "metadata": {},
   "outputs": [],
   "source": [
    "# read data\n",
    "df = pd.read_csv(r\"C:/Users/hmelberg_adm/Documents/GitHub/causal/data/rhc.csv\")"
   ]
  },
  {
   "cell_type": "code",
   "execution_count": 8,
   "metadata": {},
   "outputs": [
    {
     "data": {
      "text/plain": [
       "Index(['Unnamed: 0', 'cat1', 'cat2', 'ca', 'sadmdte', 'dschdte', 'dthdte',\n",
       "       'lstctdte', 'death', 'cardiohx', 'chfhx', 'dementhx', 'psychhx',\n",
       "       'chrpulhx', 'renalhx', 'liverhx', 'gibledhx', 'malighx', 'immunhx',\n",
       "       'transhx', 'amihx', 'age', 'sex', 'edu', 'surv2md1', 'das2d3pc',\n",
       "       't3d30', 'dth30', 'aps1', 'scoma1', 'meanbp1', 'wblc1', 'hrt1', 'resp1',\n",
       "       'temp1', 'pafi1', 'alb1', 'hema1', 'bili1', 'crea1', 'sod1', 'pot1',\n",
       "       'paco21', 'ph1', 'swang1', 'wtkilo1', 'dnr1', 'ninsclas', 'resp',\n",
       "       'card', 'neuro', 'gastr', 'renal', 'meta', 'hema', 'seps', 'trauma',\n",
       "       'ortho', 'adld3p', 'urin1', 'race', 'income', 'ptid'],\n",
       "      dtype='object')"
      ]
     },
     "execution_count": 8,
     "metadata": {},
     "output_type": "execute_result"
    }
   ],
   "source": [
    "df.columns"
   ]
  },
  {
   "cell_type": "code",
   "execution_count": 10,
   "metadata": {},
   "outputs": [],
   "source": [
    "# fix variables\n",
    "df = df.replace({'Yes': 1, 'No':0})"
   ]
  },
  {
   "cell_type": "code",
   "execution_count": null,
   "metadata": {},
   "outputs": [],
   "source": [
    "# fix variables\n",
    "df.swang1 = df.swang1.replace({'No RHC':0, 'RHC':1})"
   ]
  },
  {
   "cell_type": "code",
   "execution_count": 29,
   "metadata": {},
   "outputs": [],
   "source": [
    "df['female'] = df.sex.replace({'Male':0, 'Female':1})"
   ]
  },
  {
   "cell_type": "code",
   "execution_count": 38,
   "metadata": {},
   "outputs": [],
   "source": [
    "# define variables\n",
    "\n",
    "y = df.dth30.values # outcome is death within 30 days\n",
    "d = df.swang1.values # treatment variable \n",
    "x = df[['age', 'female']].values # variables to adjust for\n"
   ]
  },
  {
   "cell_type": "code",
   "execution_count": 31,
   "metadata": {},
   "outputs": [],
   "source": [
    "# import the package for causal inference\n",
    "from causalinference import CausalModel\n",
    "from causalinference.utils import random_data\n",
    "# for more details, see: https://github.com/laurencium/causalinference/blob/master/docs/tex/vignette.pdf"
   ]
  },
  {
   "cell_type": "code",
   "execution_count": 39,
   "metadata": {},
   "outputs": [],
   "source": [
    "# input the data to the model\n",
    "causal = CausalModel(y, d, x)"
   ]
  },
  {
   "cell_type": "code",
   "execution_count": 42,
   "metadata": {},
   "outputs": [
    {
     "name": "stdout",
     "output_type": "stream",
     "text": [
      "\n",
      "Summary Statistics\n",
      "\n",
      "                      Controls (N_c=3551)        Treated (N_t=2184)             \n",
      "       Variable         Mean         S.d.         Mean         S.d.     Raw-diff\n",
      "--------------------------------------------------------------------------------\n",
      "              Y        0.306        0.461        0.380        0.486        0.074\n",
      "\n",
      "                      Controls (N_c=3551)        Treated (N_t=2184)             \n",
      "       Variable         Mean         S.d.         Mean         S.d.     Nor-diff\n",
      "--------------------------------------------------------------------------------\n",
      "             X0       61.761       17.288       60.750       15.631       -0.061\n",
      "             X1        0.461        0.499        0.415        0.493       -0.093\n",
      "\n"
     ]
    }
   ],
   "source": [
    "# get an overview of the data \n",
    "# Note it gives the pre-treatmetn balance on the covariates\n",
    "print(causal.summary_stats)"
   ]
  },
  {
   "cell_type": "code",
   "execution_count": 45,
   "metadata": {},
   "outputs": [
    {
     "name": "stderr",
     "output_type": "stream",
     "text": [
      "C:\\Users\\hmelberg_adm\\Anaconda3\\lib\\site-packages\\causalinference\\estimators\\ols.py:21: FutureWarning: `rcond` parameter will change to the default of machine precision times ``max(M, N)`` where M and N are the input matrix dimensions.\n",
      "To use the future default and silence this warning we advise to pass `rcond=None`, to keep using the old, explicitly pass `rcond=-1`.\n",
      "  olscoef = np.linalg.lstsq(Z, Y)[0]\n"
     ]
    }
   ],
   "source": [
    "# do an ordinary regression\n",
    "causal.est_via_ols()"
   ]
  },
  {
   "cell_type": "code",
   "execution_count": 46,
   "metadata": {},
   "outputs": [
    {
     "name": "stdout",
     "output_type": "stream",
     "text": [
      "\n",
      "Treatment Effect Estimates: OLS\n",
      "\n",
      "                     Est.       S.e.          z      P>|z|      [95% Conf. int.]\n",
      "--------------------------------------------------------------------------------\n",
      "           ATE      0.077      0.013      5.957      0.000      0.052      0.102\n",
      "           ATC      0.078      0.013      6.005      0.000      0.052      0.103\n",
      "           ATT      0.075      0.013      5.854      0.000      0.050      0.101\n",
      "\n"
     ]
    }
   ],
   "source": [
    "# get the results\n",
    "print(causal.estimates)"
   ]
  },
  {
   "cell_type": "code",
   "execution_count": 47,
   "metadata": {},
   "outputs": [],
   "source": [
    "# estimate the propensity scores\n",
    "causal.est_propensity_s()"
   ]
  },
  {
   "cell_type": "code",
   "execution_count": 49,
   "metadata": {},
   "outputs": [
    {
     "name": "stdout",
     "output_type": "stream",
     "text": [
      "\n",
      "Estimated Parameters of Propensity Score\n",
      "\n",
      "                    Coef.       S.e.          z      P>|z|      [95% Conf. int.]\n",
      "--------------------------------------------------------------------------------\n",
      "     Intercept     -2.309      0.306     -7.555      0.000     -2.909     -1.710\n",
      "            X1      0.480      0.215      2.237      0.025      0.060      0.901\n",
      "            X0      0.071      0.011      6.739      0.000      0.050      0.091\n",
      "         X0*X0     -0.001      0.000     -6.762      0.000     -0.001     -0.000\n",
      "         X1*X0     -0.011      0.003     -3.097      0.002     -0.017     -0.004\n",
      "\n"
     ]
    }
   ],
   "source": [
    "print(causal.propensity)"
   ]
  },
  {
   "cell_type": "code",
   "execution_count": 51,
   "metadata": {},
   "outputs": [
    {
     "data": {
      "text/plain": [
       "0.1478055598584242"
      ]
     },
     "execution_count": 51,
     "metadata": {},
     "output_type": "execute_result"
    }
   ],
   "source": [
    "# drop some observations (automatic)\n",
    "causal.trim_s()"
   ]
  },
  {
   "cell_type": "code",
   "execution_count": 52,
   "metadata": {},
   "outputs": [
    {
     "name": "stdout",
     "output_type": "stream",
     "text": [
      "\n",
      "Summary Statistics\n",
      "\n",
      "                      Controls (N_c=3549)        Treated (N_t=2184)             \n",
      "       Variable         Mean         S.d.         Mean         S.d.     Raw-diff\n",
      "--------------------------------------------------------------------------------\n",
      "              Y        0.306        0.461        0.380        0.486        0.074\n",
      "\n",
      "                      Controls (N_c=3549)        Treated (N_t=2184)             \n",
      "       Variable         Mean         S.d.         Mean         S.d.     Nor-diff\n",
      "--------------------------------------------------------------------------------\n",
      "             X0       61.739       17.267       60.750       15.631       -0.060\n",
      "             X1        0.461        0.499        0.415        0.493       -0.093\n",
      "\n"
     ]
    }
   ],
   "source": [
    "print(causal.summary_stats)"
   ]
  },
  {
   "cell_type": "code",
   "execution_count": 54,
   "metadata": {},
   "outputs": [
    {
     "name": "stdout",
     "output_type": "stream",
     "text": [
      "\n",
      "Stratification Summary\n",
      "\n",
      "              Propensity Score         Sample Size     Ave. Propensity   Outcome\n",
      "   Stratum      Min.      Max.  Controls   Treated  Controls   Treated  Raw-diff\n",
      "--------------------------------------------------------------------------------\n",
      "         1     0.148     0.205        39         7     0.185     0.199     0.278\n",
      "         2     0.205     0.227        38         7     0.217     0.217     0.425\n",
      "         3     0.227     0.249        70        20     0.239     0.240     0.386\n",
      "         4     0.250     0.275       126        53     0.263     0.262     0.094\n",
      "         5     0.276     0.310       249       109     0.294     0.297     0.023\n",
      "         6     0.310     0.354       488       228     0.335     0.334     0.074\n",
      "         7     0.354     0.398       879       554     0.379     0.379     0.124\n",
      "         8     0.398     0.439      1660      1206     0.422     0.422     0.052\n",
      "\n"
     ]
    },
    {
     "name": "stderr",
     "output_type": "stream",
     "text": [
      "C:\\Users\\hmelberg_adm\\Anaconda3\\lib\\site-packages\\causalinference\\core\\summary.py:110: RuntimeWarning: invalid value encountered in true_divide\n",
      "  return (mean_t-mean_c) / np.sqrt((sd_c**2+sd_t**2)/2)\n"
     ]
    }
   ],
   "source": [
    "# create groups\n",
    "causal.stratify_s()\n",
    "print(causal.strata)"
   ]
  },
  {
   "cell_type": "code",
   "execution_count": 55,
   "metadata": {},
   "outputs": [
    {
     "name": "stderr",
     "output_type": "stream",
     "text": [
      "C:\\Users\\hmelberg_adm\\Anaconda3\\lib\\site-packages\\causalinference\\estimators\\ols.py:21: FutureWarning: `rcond` parameter will change to the default of machine precision times ``max(M, N)`` where M and N are the input matrix dimensions.\n",
      "To use the future default and silence this warning we advise to pass `rcond=None`, to keep using the old, explicitly pass `rcond=-1`.\n",
      "  olscoef = np.linalg.lstsq(Z, Y)[0]\n"
     ]
    },
    {
     "name": "stdout",
     "output_type": "stream",
     "text": [
      "\n",
      "Treatment Effect Estimates: OLS\n",
      "\n",
      "                     Est.       S.e.          z      P>|z|      [95% Conf. int.]\n",
      "--------------------------------------------------------------------------------\n",
      "           ATE      0.077      0.013      5.959      0.000      0.052      0.102\n",
      "           ATC      0.078      0.013      6.008      0.000      0.052      0.103\n",
      "           ATT      0.075      0.013      5.857      0.000      0.050      0.101\n",
      "\n",
      "Treatment Effect Estimates: Matching\n",
      "\n",
      "                     Est.       S.e.          z      P>|z|      [95% Conf. int.]\n",
      "--------------------------------------------------------------------------------\n",
      "           ATE      0.089      0.021      4.234      0.000      0.048      0.130\n",
      "           ATC      0.087      0.023      3.734      0.000      0.042      0.133\n",
      "           ATT      0.091      0.024      3.834      0.000      0.044      0.138\n",
      "\n"
     ]
    }
   ],
   "source": [
    "causal.est_via_ols()\n",
    "causal.est_via_matching()\n",
    "print(causal.estimates)"
   ]
  },
  {
   "cell_type": "markdown",
   "metadata": {},
   "source": [
    "# Same example, using another package: pymatch"
   ]
  },
  {
   "cell_type": "code",
   "execution_count": 7,
   "metadata": {},
   "outputs": [
    {
     "name": "stdout",
     "output_type": "stream",
     "text": [
      "Requirement already satisfied: pymatch in ./.local/lib/python3.6/site-packages (0.3.3)\n",
      "\u001b[31mmkl-random 1.0.1 requires cython, which is not installed.\u001b[0m\n",
      "\u001b[33mYou are using pip version 10.0.1, however version 18.1 is available.\n",
      "You should consider upgrading via the 'pip install --upgrade pip' command.\u001b[0m\n"
     ]
    }
   ],
   "source": [
    "!pip install pymatch --user\n",
    "# more info here: https://github.com/benmiroglio/pymatch"
   ]
  },
  {
   "cell_type": "code",
   "execution_count": 8,
   "metadata": {},
   "outputs": [
    {
     "ename": "ModuleNotFoundError",
     "evalue": "No module named 'pymatch'",
     "output_type": "error",
     "traceback": [
      "\u001b[0;31m---------------------------------------------------------------------------\u001b[0m",
      "\u001b[0;31mModuleNotFoundError\u001b[0m                       Traceback (most recent call last)",
      "\u001b[0;32m<ipython-input-8-2a0154c1eecc>\u001b[0m in \u001b[0;36m<module>\u001b[0;34m\u001b[0m\n\u001b[0;32m----> 1\u001b[0;31m \u001b[0;32mfrom\u001b[0m \u001b[0mpymatch\u001b[0m\u001b[0;34m.\u001b[0m\u001b[0mMatcher\u001b[0m \u001b[0;32mimport\u001b[0m \u001b[0mMatcher\u001b[0m\u001b[0;34m\u001b[0m\u001b[0m\n\u001b[0m",
      "\u001b[0;31mModuleNotFoundError\u001b[0m: No module named 'pymatch'"
     ]
    }
   ],
   "source": [
    "from pymatch.Matcher import Matcher"
   ]
  },
  {
   "cell_type": "code",
   "execution_count": null,
   "metadata": {},
   "outputs": [],
   "source": []
  }
 ],
 "metadata": {
  "kernelspec": {
   "display_name": "Python 3",
   "language": "python",
   "name": "python3"
  },
  "language_info": {
   "codemirror_mode": {
    "name": "ipython",
    "version": 3
   },
   "file_extension": ".py",
   "mimetype": "text/x-python",
   "name": "python",
   "nbconvert_exporter": "python",
   "pygments_lexer": "ipython3",
   "version": "3.6.5"
  },
  "varInspector": {
   "cols": {
    "lenName": 16,
    "lenType": 16,
    "lenVar": 40
   },
   "kernels_config": {
    "python": {
     "delete_cmd_postfix": "",
     "delete_cmd_prefix": "del ",
     "library": "var_list.py",
     "varRefreshCmd": "print(var_dic_list())"
    },
    "r": {
     "delete_cmd_postfix": ") ",
     "delete_cmd_prefix": "rm(",
     "library": "var_list.r",
     "varRefreshCmd": "cat(var_dic_list()) "
    }
   },
   "types_to_exclude": [
    "module",
    "function",
    "builtin_function_or_method",
    "instance",
    "_Feature"
   ],
   "window_display": false
  }
 },
 "nbformat": 4,
 "nbformat_minor": 2
}
