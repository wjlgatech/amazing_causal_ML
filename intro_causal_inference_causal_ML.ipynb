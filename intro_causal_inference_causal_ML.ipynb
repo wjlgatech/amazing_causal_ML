{
  "nbformat": 4,
  "nbformat_minor": 0,
  "metadata": {
    "colab": {
      "name": "intro_causal_inference_causal_ML.ipynb",
      "provenance": [],
      "toc_visible": true
    },
    "kernelspec": {
      "name": "python3",
      "display_name": "Python 3"
    },
    "language_info": {
      "name": "python"
    }
  },
  "cells": [
    {
      "cell_type": "markdown",
      "source": [
        "# Causal Inference & Causal Machine Learning"
      ],
      "metadata": {
        "id": "kaZfOUMJRGjM"
      }
    },
    {
      "cell_type": "markdown",
      "source": [
        "## Objectives\n",
        "\n",
        "1. Why Causal Inference & Causal ML?\n",
        "\n",
        "2. What is Causal Inference? v.s. What is causal ML?\n",
        "\n",
        "3. How to do causal inf.? when?\n",
        "  - regression\n",
        "  - matching\n",
        "  - Difference in difference (diff in diff)\n",
        "  - Synthetic Control\n",
        "  - Regression Discontinuity Design (RDD)\n",
        "\n",
        "4. How to do causal ML? when?\n",
        "\n"
      ],
      "metadata": {
        "id": "mppmDb_NJkGM"
      }
    },
    {
      "cell_type": "markdown",
      "source": [
        "## Sucess Metrics\n",
        "\n",
        "What can be called success? This is the future-Paul in 1 weeks (08/11/2022 - 08/18/2022)\n",
        "\n",
        "- Wearing causal_glass, I discover 3+ causal examples/day in my real life before the AAPL interview at next Tue 08/16/2022.\n",
        "\n",
        "- To solve daily life problem, I build mental models using causal inf & ML methodologies\n",
        "\n",
        "- To design experiments for **Humors.live**(HM) and **Billionsbrilliance.com** (BB), I identify when & where I should apply A/B testing, causal inf & causal ML, respectively\n",
        "\n",
        "- To grow a TRUE ADEPTive tree *Causal Inf & Causal ML* in my knowledge forest, \n",
        "  - I document the process in this colab notebook; \n",
        "  - I will publish it to GitHub, Linkedin, and Medium. \n",
        "  - I will demo this notebook to the Gene Learning Friday audience.\n",
        "\n",
        "Here,\n",
        "  - TRUE = Transferable Reproducible Understandable Executable\n",
        "  - ADEPT = Analogy Diagram Example PlainExplanation TechnicalAbstraction&Generalization"
      ],
      "metadata": {
        "id": "uHES87m3Nswx"
      }
    },
    {
      "cell_type": "markdown",
      "source": [
        "##References & Credits\n",
        "\n",
        "- [2022 YouTub:\n",
        "Regression and Matching | Causal Inference in Data Science Part 1 | Data Interview Pro](https://youtu.be/gUMhBkof7Ck)\n",
        "\n",
        "- [2022 YouTube: Difference-in-differences | Synthetic Control | Causal Inference in Data Science Part 2](https://www.youtube.com/watch?v=KgfPTLqjUEE)\n",
        "\n",
        "- [Regression Discontinuity Design (RDD) | Causal Inference in Data Science Part 3](https://www.youtube.com/watch?v=1CgQVwKeAoU)\n",
        "\n",
        "- [2021 Yuan Meng: Causality in DS](https://www.yuan-meng.com/posts/causality/)\n",
        "\n",
        "- [2022 YouTube:\n",
        "Causal Inference with Machine Learning - EXPLAINED!](https://www.youtube.com/watch?v=MFnOYNU5sbk)"
      ],
      "metadata": {
        "id": "6DjeOPzFN3gP"
      }
    },
    {
      "cell_type": "markdown",
      "source": [
        "## Why causal inf?\n",
        "\n",
        "1. To make effective change (what to change and how to change), we always need to understand the cause-effect (why X->y)\n",
        "\n",
        "Example1:\n",
        "\n",
        "- Observation data: we observe the y = 5% user engagement increase|decrease last month on **BB**|**HM**\n",
        "- Causation: it is caused by X (e.g. Chrismas season, summer breaks, great resignation, great recession, Change of reward policy)\n",
        "- Action: Change X in order to change y\n",
        "\n",
        "Example2:\n",
        "- Observation: Getting up early|late for my morning routing is associated with high|low producitivity of the day\n",
        "- Cause-Effect: early get up ->? high productivity\n",
        "- Action: take a sequence of adjustment so that you can be consistent of getting up early\n",
        "\n",
        "\n",
        "Mental model of causal inference:\n",
        "\n",
        "\n",
        "$$argmax_{action\\in ActionSpace} \\hat{E} [goal \\mid observation, action]$$\n",
        "\n",
        "Note: [auto Handwritting to LaTex](https://snip.mathpix.com/wjlgatech/notes/6f36af23-4b7c-4eba-bfff-abe8f7432129/edit)\n",
        "\n",
        "\n",
        "Q: Isn't that A/B testing a golden standard to figure out causal factors?\n",
        "\n",
        "A: Yes. But A/B testing has its limitations.\n",
        "\n",
        "References:\n",
        "- [A/B testing is not good enough, use Bayesian A/\n",
        "\n",
        "\n"
      ],
      "metadata": {
        "id": "-7UJrGsbRsvu"
      }
    },
    {
      "cell_type": "markdown",
      "source": [
        "### When A/B testing not working?\n",
        "\n",
        "**Example: \"Does the new website design help customer retention?\"**\n",
        "\n",
        "What if your website is not FB, GGL but a startup with only 100 active users? There is not enough sample to do A/B testing! (probably it can be partially addressed by [Bayesian Inference](https://github.com/wjlgatech/bayesian-inference), [Bayesian A/B testing](https://github.com/wjlgatech/bayesian-ab-testing))\n",
        "\n",
        "**Example: \"Should Doordash increase delivery reward for drivers during peak lunch hours help to solve driver shortage problem?\"** \n",
        "\n",
        "increase delivery reward => more driver, less customer =>solve driver shortage BUT decreases DoorDash revenue.\n",
        "\n",
        "**Example: \"Does delay-delivery-discount in UBER EAT reduce user churn?\"**\n",
        "\n",
        "You know that when the food delivery is longer than what the APP estimated, customer tend to churned or reduce the order amounts. You think that delivery-delay-discount (ddd) could help to solve the painpiont. Do you recommend a A/B test experiment to figure out your hypothesis: ddd reduces churn and improve customer life value (CLV).\n",
        "- customer population=[random selection]=> customer samples\n",
        "  - calculate sample size\n",
        "\n",
        "- =[random split]=> control|test \n",
        "\n",
        "- => treatment on test but not on control, measure CLV of both groups, calculate t-test \n",
        "\n",
        "- =[]=> decision: whether or not apply ddd.\n",
        "\n",
        "**Example: \"Does smoking cause lung cancer?\"**\n",
        "\n",
        "population => sample =>control|test => ask people in test smoke??\n",
        "\n",
        "What?! This A/B test is not ethical!\n",
        "\n",
        "\n",
        "**Summary**: \n",
        "\n",
        "There are situations A/B testing is \n",
        "- costly\n",
        "- not ethical\n",
        "- not feasible (e.g. too few samples)\n",
        "\n",
        "We need to find other ways to under whether/why X->y."
      ],
      "metadata": {
        "id": "ryy9XGIzBlAy"
      }
    },
    {
      "cell_type": "code",
      "source": [
        ""
      ],
      "metadata": {
        "id": "3-be0AtPyQsy"
      },
      "execution_count": null,
      "outputs": []
    },
    {
      "cell_type": "code",
      "source": [
        ""
      ],
      "metadata": {
        "id": "etek-DuHyQvR"
      },
      "execution_count": null,
      "outputs": []
    },
    {
      "cell_type": "markdown",
      "source": [
        "### What is Causal Inference? v.s. What is causal ML?\n",
        "\n",
        "Q: What does it mean X cause y, i.e. X->y?\n",
        "\n",
        "A: \n",
        "- X is before y in a temporal sequence \n",
        "> \"X is an acestor of y\"\n",
        "\n",
        "- no Z cause both X and y i.e. \n",
        "$$no Z: Z->X & Z->y$$ \n",
        "\n",
        ">\"X and y do not have common ancestor Z\"\n",
        "\n",
        "- P(y|X) > P(y|-X)\n",
        "> Just as 'I am better to have you', effect is larger when it has cause\n",
        "\n",
        "\n",
        "Q: Someone says X->y can be understood as \n",
        "\n",
        ">\"If we know that X and y are correlated e.g. cor(y, X) !=0, and we assume that y = f(A, B, C,...), if X in {A, B, C,...}, then X -> y\"\n",
        "\n",
        "why it's a wrong mental model?\n",
        "\n",
        "It's because it's hard to prove that X is ahead of y & X and y do not have common ancestor.\n",
        "\n"
      ],
      "metadata": {
        "id": "wJcWcsxDx2mY"
      }
    },
    {
      "cell_type": "code",
      "source": [
        ""
      ],
      "metadata": {
        "id": "8MIq1HOzyR29"
      },
      "execution_count": null,
      "outputs": []
    },
    {
      "cell_type": "code",
      "source": [
        ""
      ],
      "metadata": {
        "id": "gWwESbeqyR5n"
      },
      "execution_count": null,
      "outputs": []
    },
    {
      "cell_type": "markdown",
      "source": [
        "### How to do causal inf.? when?\n",
        "\n"
      ],
      "metadata": {
        "id": "Q1k0EBmkyD1x"
      }
    },
    {
      "cell_type": "code",
      "source": [
        ""
      ],
      "metadata": {
        "id": "z5qRlF-SySyV"
      },
      "execution_count": null,
      "outputs": []
    },
    {
      "cell_type": "code",
      "source": [
        ""
      ],
      "metadata": {
        "id": "SOEKkX6AyS1C"
      },
      "execution_count": null,
      "outputs": []
    },
    {
      "cell_type": "markdown",
      "source": [
        "#### regression\n"
      ],
      "metadata": {
        "id": "WMQz2rqsyD4p"
      }
    },
    {
      "cell_type": "code",
      "source": [
        ""
      ],
      "metadata": {
        "id": "CiZ-AZUIyTlz"
      },
      "execution_count": null,
      "outputs": []
    },
    {
      "cell_type": "code",
      "source": [
        ""
      ],
      "metadata": {
        "id": "UTNV4Ek8yTou"
      },
      "execution_count": null,
      "outputs": []
    },
    {
      "cell_type": "markdown",
      "source": [
        "#### matching\n"
      ],
      "metadata": {
        "id": "WPQJDr7tyD7A"
      }
    },
    {
      "cell_type": "code",
      "source": [
        ""
      ],
      "metadata": {
        "id": "2inshQIfyUYz"
      },
      "execution_count": null,
      "outputs": []
    },
    {
      "cell_type": "code",
      "source": [
        ""
      ],
      "metadata": {
        "id": "epseBLbWyUbg"
      },
      "execution_count": null,
      "outputs": []
    },
    {
      "cell_type": "markdown",
      "source": [
        "#### Difference in difference (diff in diff)\n"
      ],
      "metadata": {
        "id": "cFCJciniyLMn"
      }
    },
    {
      "cell_type": "code",
      "source": [
        ""
      ],
      "metadata": {
        "id": "e4SfiIsnyVNG"
      },
      "execution_count": null,
      "outputs": []
    },
    {
      "cell_type": "code",
      "source": [
        ""
      ],
      "metadata": {
        "id": "5JX9wEHpyVPl"
      },
      "execution_count": null,
      "outputs": []
    },
    {
      "cell_type": "markdown",
      "source": [
        "####Synthetic Control"
      ],
      "metadata": {
        "id": "LRim_cGCyNGj"
      }
    },
    {
      "cell_type": "code",
      "source": [
        ""
      ],
      "metadata": {
        "id": "y10zY8EZyWFJ"
      },
      "execution_count": null,
      "outputs": []
    },
    {
      "cell_type": "code",
      "execution_count": null,
      "metadata": {
        "id": "zVHFu0ugJe3L"
      },
      "outputs": [],
      "source": [
        ""
      ]
    }
  ]
}