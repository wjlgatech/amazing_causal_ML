{
 "cells": [
  {
   "cell_type": "markdown",
   "metadata": {},
   "source": [
    "# Instrumental variables"
   ]
  },
  {
   "cell_type": "markdown",
   "metadata": {},
   "source": [
    "### What? "
   ]
  },
  {
   "cell_type": "markdown",
   "metadata": {},
   "source": [
    "- A method to identify the causal effect of one variable (the treatment, x) on another (the outcome, y) \n",
    "- Example: Effect of education (x) on salary (y)\n",
    "$$y= a+b x$$"
   ]
  },
  {
   "cell_type": "markdown",
   "metadata": {},
   "source": [
    "### Why?"
   ]
  },
  {
   "cell_type": "markdown",
   "metadata": {},
   "source": [
    "- Why can't we just run a simple regression? \n",
    "    - A simple regression may give biased answers because of unobserved variables that are not included in the regression\n",
    "    - In other words: This metod is most commonly used when you strongly suspect one or more missing varibles\n",
    "- Example: Do not have information about IQ, and IQ is likely to affect both education and salary\n",
    "    - Would like to run $$salary = a + b_1 iq + b_2 education$$\n",
    "    - But do not have information about iq, in which case the coefficient $b_2$ will be biased i.e. capture not only the effect of education but also iq"
   ]
  },
  {
   "cell_type": "markdown",
   "metadata": {},
   "source": [
    "### Solution"
   ]
  },
  {
   "cell_type": "markdown",
   "metadata": {},
   "source": [
    "- Find a variable that is correlated with the treatment, but not directly correlated with the outcome\n",
    "- This variable is called 'the instrument' and often labelled z.\n",
    "- First step: Run a regression with the instrument and the treatment variable\n",
    "$$x = a + b z$$\n",
    "- Second step: Run a regression with the outcome and the predicted value of the treatment variable from step one\n",
    "$$y = a + b\\hat{x}$$\n",
    "- The coefficient from this second step is the (unbiased) estimate of the effect of education on salary \n",
    "    "
   ]
  },
  {
   "cell_type": "markdown",
   "metadata": {},
   "source": [
    " ### Example"
   ]
  },
  {
   "cell_type": "markdown",
   "metadata": {},
   "source": [
    "- The month you are born may affect number of months of education you get (because you cannot quit before you turn 16, and people turn 16 in different months, but they all start school in the same month), but the month of birth itself may not affect the salary you get.\n",
    "- Step one: Run a regression between education and birth month\n",
    "- Step two: Run a regression between salary and the predicted education based on month of birth"
   ]
  },
  {
   "cell_type": "markdown",
   "metadata": {},
   "source": [
    "### Assumes"
   ]
  },
  {
   "cell_type": "markdown",
   "metadata": {},
   "source": [
    "- The treatment variable and the instrument has to be correlated (correlation between x and z)\n",
    "- No (direct) correlation between the instrument and the outcome (no correlation between z and y)\n",
    "   "
   ]
  },
  {
   "cell_type": "markdown",
   "metadata": {},
   "source": [
    "### Advantage"
   ]
  },
  {
   "cell_type": "markdown",
   "metadata": {},
   "source": [
    "- Requires very little information to identify a causal effect. \n",
    "- We can ignore all potential confounding variables (like IQ) as long as we have an instrument. \n",
    "- Almost magic!\n",
    "    "
   ]
  },
  {
   "cell_type": "markdown",
   "metadata": {},
   "source": [
    "### Extensions"
   ]
  },
  {
   "cell_type": "markdown",
   "metadata": {},
   "source": [
    "- **Case 1: Have information about some confounders, but not all. Solution: Use what you have!**\n",
    "    - First step: Run a regression with the instrument and the treatment variable and the conofounders you have information about\n",
    "    $$x = a + b_0 z + b_1 x_1 + b_2 x_2 $$\n",
    "    \n",
    "    - Second step: Run a regression with the outcome, the confounders and the predicted value of the treatment variable from step one\n",
    "    \n",
    "    $$y = a + b\\hat{x} + + b_1 x_1 + b_2 x_2$$\n",
    " \n",
    " \n",
    "- **Case 2: Have more than one instrument ($z_1$ and $z_2$). Solution: Use all!**\n",
    "     - First step: Run a regression with the instrument and the treatment variable and the conofounders you have information about: \n",
    "     $$x = a + b_0 z_1 + b_1 z_2 $$\n",
    "     - Second step: Run a regression with the outcome, the confounders and the predicted value of the treatment variable from step one: \n",
    "     $$y = a + b\\hat{x} $$"
   ]
  },
  {
   "cell_type": "markdown",
   "metadata": {},
   "source": [
    "### Problems"
   ]
  },
  {
   "cell_type": "markdown",
   "metadata": {},
   "source": [
    "**1. Often difficult to find a good instrument**\n",
    "   - But some common instruments are:\n",
    "        - Situations where a lottery is used (to select who gets health insurance, who has to serve in the army and so on)\n",
    "        - More and more commmon: use genetic information as an instrument\n",
    "            - Example: Effect of obesity on some outcome\n",
    "            - Assume: Have information about genes that are likely to affect obesity, but not the outcome\n",
    "        - Institutional rules and structures \n",
    "            - Example: The rule that you can quit school when you turn 16\n",
    "            - Interesting note: This means that knowledge of history, politics and institutions is an advantage when trying to find instruments! A creative process.\n",
    "\n",
    "**2. Cannot test the second assumption that there is no direct relationship between the instrument and the outcome**\n",
    "   - Maybe month of birth really affects salary?\n",
    "   - Lesson: Instrument requires strong theoretical justification, knowledge of causal mechanisms\n",
    "    \n",
    "**3. Small errors can have large effects on the outcome**\n",
    "   - Small departures from each assumption can have a large effect when combined\n",
    "        - Weak instrument (small correlation between the instrument and the treatment)\n",
    "        - Some correlation between instrument and outcome\n",
    "        --> Potential for large bias\n",
    "\n",
    "**4. Outcome is not really an average effect of treatment, but a local average effect of treatment (LATE)**\n",
    "   - The estimated effect is for those who are affected by the instrument\n",
    "   - Effect of education on salary for those who are likely to quit when they turn 16, not for all youths\n",
    "   - Even more difficult to interpret the estimated effect when there are many instruments\n",
    "       - Average effect of several local effects (those affected by the different instruments)? "
   ]
  },
  {
   "cell_type": "markdown",
   "metadata": {},
   "source": [
    "## More examples"
   ]
  },
  {
   "cell_type": "markdown",
   "metadata": {},
   "source": [
    "- Effect of serving in the military on salary?\n",
    "    - Use lottery number as instrument \n",
    "    - The lottery was used to draft males to the military during the Vietnam war and the number shoult not be directly related to salary, but it would affect probability of being in the army\n",
    "    \n",
    "- Effect of having medical insurance on health?\n",
    "    - Sometimes a lottery has been used to give some people health insurance (Oregon experiment)\n",
    "\n",
    "- Effect of access to special educationl resources\n",
    "    - Sometimes distributed (vouchers) using a lottery\n",
    "\n",
    "- Effect of obesity (and other conditions) on different outcomes\n",
    "    - Genetic information may serve as instruments since the genes may increase the probability of having the disease, without being directly related to the outcome we are interested in"
   ]
  },
  {
   "cell_type": "code",
   "execution_count": null,
   "metadata": {},
   "outputs": [],
   "source": []
  }
 ],
 "metadata": {
  "kernelspec": {
   "display_name": "Python 3",
   "language": "python",
   "name": "python3"
  },
  "language_info": {
   "codemirror_mode": {
    "name": "ipython",
    "version": 3
   },
   "file_extension": ".py",
   "mimetype": "text/x-python",
   "name": "python",
   "nbconvert_exporter": "python",
   "pygments_lexer": "ipython3",
   "version": "3.7.0"
  },
  "varInspector": {
   "cols": {
    "lenName": 16,
    "lenType": 16,
    "lenVar": 40
   },
   "kernels_config": {
    "python": {
     "delete_cmd_postfix": "",
     "delete_cmd_prefix": "del ",
     "library": "var_list.py",
     "varRefreshCmd": "print(var_dic_list())"
    },
    "r": {
     "delete_cmd_postfix": ") ",
     "delete_cmd_prefix": "rm(",
     "library": "var_list.r",
     "varRefreshCmd": "cat(var_dic_list()) "
    }
   },
   "types_to_exclude": [
    "module",
    "function",
    "builtin_function_or_method",
    "instance",
    "_Feature"
   ],
   "window_display": false
  }
 },
 "nbformat": 4,
 "nbformat_minor": 2
}
