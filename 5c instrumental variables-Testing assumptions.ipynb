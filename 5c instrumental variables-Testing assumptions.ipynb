{
 "cells": [
  {
   "cell_type": "markdown",
   "metadata": {},
   "source": [
    "# Instrumental variables: Testing assumptions"
   ]
  },
  {
   "cell_type": "markdown",
   "metadata": {},
   "source": [
    "How biased are the results if we violate the assumptions?"
   ]
  },
  {
   "cell_type": "code",
   "execution_count": 1,
   "metadata": {},
   "outputs": [
    {
     "name": "stderr",
     "output_type": "stream",
     "text": [
      "C:\\Users\\hmelberg_adm\\Anaconda3\\lib\\site-packages\\statsmodels\\compat\\pandas.py:23: FutureWarning: The Panel class is removed from pandas. Accessing it from the top-level namespace will also be removed in the next version\n",
      "  data_klasses = (pandas.Series, pandas.DataFrame, pandas.Panel)\n"
     ]
    }
   ],
   "source": [
    "import numpy as np\n",
    "import pandas as pd\n",
    "import statsmodels.api as sm\n",
    "import matplotlib.pyplot as plt\n",
    "import seaborn as sns\n",
    "from ipywidgets import interact, widget"
   ]
  },
  {
   "cell_type": "code",
   "execution_count": 2,
   "metadata": {},
   "outputs": [],
   "source": [
    "# enable graphs\n",
    "%matplotlib inline"
   ]
  },
  {
   "cell_type": "markdown",
   "metadata": {},
   "source": [
    "## Data"
   ]
  },
  {
   "cell_type": "markdown",
   "metadata": {},
   "source": []
  },
  {
   "cell_type": "code",
   "execution_count": 4,
   "metadata": {},
   "outputs": [
    {
     "ename": "TypeError",
     "evalue": "assign() takes 1 positional argument but 2 were given",
     "output_type": "error",
     "traceback": [
      "\u001b[1;31m---------------------------------------------------------------------------\u001b[0m",
      "\u001b[1;31mTypeError\u001b[0m                                 Traceback (most recent call last)",
      "\u001b[1;32m<ipython-input-4-adb3cb8f3463>\u001b[0m in \u001b[0;36m<module>\u001b[1;34m\u001b[0m\n\u001b[0;32m     10\u001b[0m \u001b[0mdf\u001b[0m\u001b[1;33m[\u001b[0m\u001b[1;34m'salary'\u001b[0m\u001b[1;33m]\u001b[0m \u001b[1;33m=\u001b[0m \u001b[0mdf\u001b[0m\u001b[1;33m.\u001b[0m\u001b[0meducation\u001b[0m \u001b[1;33m+\u001b[0m \u001b[0mdf\u001b[0m\u001b[1;33m.\u001b[0m\u001b[0miq\u001b[0m\u001b[1;33m\u001b[0m\u001b[0m\n\u001b[0;32m     11\u001b[0m \u001b[1;33m\u001b[0m\u001b[0m\n\u001b[1;32m---> 12\u001b[1;33m \u001b[0mdf\u001b[0m\u001b[1;33m.\u001b[0m\u001b[0massign\u001b[0m\u001b[1;33m(\u001b[0m\u001b[1;34m'salary = education + iq'\u001b[0m\u001b[1;33m)\u001b[0m\u001b[1;33m\u001b[0m\u001b[0m\n\u001b[0m\u001b[0;32m     13\u001b[0m \u001b[1;33m\u001b[0m\u001b[0m\n\u001b[0;32m     14\u001b[0m \u001b[0mdf\u001b[0m\u001b[1;33m.\u001b[0m\u001b[0mcorr\u001b[0m\u001b[1;33m(\u001b[0m\u001b[1;33m)\u001b[0m\u001b[1;33m\u001b[0m\u001b[0m\n",
      "\u001b[1;31mTypeError\u001b[0m: assign() takes 1 positional argument but 2 were given"
     ]
    }
   ],
   "source": [
    "df = pd.DataFrame()\n",
    "#salary = education + iq + rest_1\n",
    "#education = birthmonth + iq + rest_2\n",
    "\n",
    "n = 10000\n",
    "anti_corr = 1\n",
    "df['iq'] = np.random.normal(100, 10, size=n)\n",
    "df['birth_month'] = np.random.uniform(1, 12, size=n)\n",
    "df['education'] = (0.1 * df.iq) + (0.001 *df.birth_month) + (anti_corr * np.random.normal(0, 1, size=n) )\n",
    "df['salary'] = df.education + df.iq\n",
    "\n",
    "df.assign('salary = education + iq')\n",
    "\n",
    "df.corr()\n"
   ]
  },
  {
   "cell_type": "code",
   "execution_count": 6,
   "metadata": {},
   "outputs": [
    {
     "data": {
      "text/html": [
       "<div>\n",
       "<style scoped>\n",
       "    .dataframe tbody tr th:only-of-type {\n",
       "        vertical-align: middle;\n",
       "    }\n",
       "\n",
       "    .dataframe tbody tr th {\n",
       "        vertical-align: top;\n",
       "    }\n",
       "\n",
       "    .dataframe thead th {\n",
       "        text-align: right;\n",
       "    }\n",
       "</style>\n",
       "<table border=\"1\" class=\"dataframe\">\n",
       "  <thead>\n",
       "    <tr style=\"text-align: right;\">\n",
       "      <th></th>\n",
       "      <th>iq</th>\n",
       "      <th>birth</th>\n",
       "      <th>education</th>\n",
       "      <th>luck</th>\n",
       "      <th>salary</th>\n",
       "    </tr>\n",
       "  </thead>\n",
       "  <tbody>\n",
       "    <tr>\n",
       "      <td>iq</td>\n",
       "      <td>1.000000</td>\n",
       "      <td>0.000246</td>\n",
       "      <td>-0.003149</td>\n",
       "      <td>0.004982</td>\n",
       "      <td>0.497144</td>\n",
       "    </tr>\n",
       "    <tr>\n",
       "      <td>birth</td>\n",
       "      <td>0.000246</td>\n",
       "      <td>1.000000</td>\n",
       "      <td>0.716294</td>\n",
       "      <td>-0.004843</td>\n",
       "      <td>0.510146</td>\n",
       "    </tr>\n",
       "    <tr>\n",
       "      <td>education</td>\n",
       "      <td>-0.003149</td>\n",
       "      <td>0.716294</td>\n",
       "      <td>1.000000</td>\n",
       "      <td>0.001528</td>\n",
       "      <td>0.714527</td>\n",
       "    </tr>\n",
       "    <tr>\n",
       "      <td>luck</td>\n",
       "      <td>0.004982</td>\n",
       "      <td>-0.004843</td>\n",
       "      <td>0.001528</td>\n",
       "      <td>1.000000</td>\n",
       "      <td>0.493527</td>\n",
       "    </tr>\n",
       "    <tr>\n",
       "      <td>salary</td>\n",
       "      <td>0.497144</td>\n",
       "      <td>0.510146</td>\n",
       "      <td>0.714527</td>\n",
       "      <td>0.493527</td>\n",
       "      <td>1.000000</td>\n",
       "    </tr>\n",
       "  </tbody>\n",
       "</table>\n",
       "</div>"
      ],
      "text/plain": [
       "                 iq     birth  education      luck    salary\n",
       "iq         1.000000  0.000246  -0.003149  0.004982  0.497144\n",
       "birth      0.000246  1.000000   0.716294 -0.004843  0.510146\n",
       "education -0.003149  0.716294   1.000000  0.001528  0.714527\n",
       "luck       0.004982 -0.004843   0.001528  1.000000  0.493527\n",
       "salary     0.497144  0.510146   0.714527  0.493527  1.000000"
      ]
     },
     "execution_count": 6,
     "metadata": {},
     "output_type": "execute_result"
    }
   ],
   "source": [
    "df = pd.DataFrame()\n",
    "#salary = education + iq + rest_1\n",
    "#education = birthmonth + iq + rest_2\n",
    "\n",
    "n = 10000\n",
    "anti_corr = 1\n",
    "df['iq'] = np.random.normal(size=n)\n",
    "df['birth'] = np.random.normal(size=n)\n",
    "df['education'] = df.iq + df.birth + (anti_corr * np.random.normal(size=n)) \n",
    "df['education'] = df.birth + (anti_corr * np.random.normal(size=n)) \n",
    "df['education'] = df.birth + (anti_corr * np.random.normal(size=n)) \n",
    "\n",
    "df['luck'] = np.random.normal(size=n)\n",
    "df['salary'] = df.education + df.iq + df.luck\n",
    "\n",
    "#df.assign('salary = education + iq')\n",
    "df.corr()"
   ]
  },
  {
   "cell_type": "code",
   "execution_count": 31,
   "metadata": {},
   "outputs": [
    {
     "data": {
      "text/html": [
       "<div>\n",
       "<style scoped>\n",
       "    .dataframe tbody tr th:only-of-type {\n",
       "        vertical-align: middle;\n",
       "    }\n",
       "\n",
       "    .dataframe tbody tr th {\n",
       "        vertical-align: top;\n",
       "    }\n",
       "\n",
       "    .dataframe thead th {\n",
       "        text-align: right;\n",
       "    }\n",
       "</style>\n",
       "<table border=\"1\" class=\"dataframe\">\n",
       "  <thead>\n",
       "    <tr style=\"text-align: right;\">\n",
       "      <th></th>\n",
       "      <th>iq</th>\n",
       "      <th>birth_month</th>\n",
       "      <th>education</th>\n",
       "      <th>salary</th>\n",
       "    </tr>\n",
       "  </thead>\n",
       "  <tbody>\n",
       "    <tr>\n",
       "      <td>0</td>\n",
       "      <td>0.159660</td>\n",
       "      <td>0.846030</td>\n",
       "      <td>-0.095563</td>\n",
       "      <td>0.064097</td>\n",
       "    </tr>\n",
       "    <tr>\n",
       "      <td>1</td>\n",
       "      <td>-0.840566</td>\n",
       "      <td>0.812360</td>\n",
       "      <td>-0.400807</td>\n",
       "      <td>-1.241374</td>\n",
       "    </tr>\n",
       "    <tr>\n",
       "      <td>2</td>\n",
       "      <td>-0.915778</td>\n",
       "      <td>0.340665</td>\n",
       "      <td>0.073298</td>\n",
       "      <td>-0.842480</td>\n",
       "    </tr>\n",
       "    <tr>\n",
       "      <td>3</td>\n",
       "      <td>-0.527123</td>\n",
       "      <td>0.750139</td>\n",
       "      <td>-0.438991</td>\n",
       "      <td>-0.966114</td>\n",
       "    </tr>\n",
       "    <tr>\n",
       "      <td>4</td>\n",
       "      <td>1.052601</td>\n",
       "      <td>0.409329</td>\n",
       "      <td>1.680005</td>\n",
       "      <td>2.732606</td>\n",
       "    </tr>\n",
       "  </tbody>\n",
       "</table>\n",
       "</div>"
      ],
      "text/plain": [
       "         iq  birth_month  education    salary\n",
       "0  0.159660     0.846030  -0.095563  0.064097\n",
       "1 -0.840566     0.812360  -0.400807 -1.241374\n",
       "2 -0.915778     0.340665   0.073298 -0.842480\n",
       "3 -0.527123     0.750139  -0.438991 -0.966114\n",
       "4  1.052601     0.409329   1.680005  2.732606"
      ]
     },
     "execution_count": 31,
     "metadata": {},
     "output_type": "execute_result"
    }
   ],
   "source": [
    "#%% basic descriptive\n",
    "df.head()"
   ]
  },
  {
   "cell_type": "code",
   "execution_count": 7,
   "metadata": {},
   "outputs": [],
   "source": [
    "name= \"https://github.com/hmelberg/causal/blob/master/data/iv_voucher_data.dta\""
   ]
  },
  {
   "cell_type": "code",
   "execution_count": null,
   "metadata": {},
   "outputs": [],
   "source": []
  },
  {
   "cell_type": "code",
   "execution_count": null,
   "metadata": {},
   "outputs": [],
   "source": []
  },
  {
   "cell_type": "code",
   "execution_count": 14,
   "metadata": {},
   "outputs": [],
   "source": [
    "df = pd.read_stata(\"C:/Users/hmelberg_adm/Documents/GitHub/causal/data/iv_voucher_data.dta\")"
   ]
  },
  {
   "cell_type": "code",
   "execution_count": 15,
   "metadata": {},
   "outputs": [],
   "source": [
    "df.to_csv('C:/Users/hmelberg_adm/Documents/iv_voucher_data.csv')"
   ]
  },
  {
   "cell_type": "code",
   "execution_count": 22,
   "metadata": {},
   "outputs": [
    {
     "data": {
      "text/html": [
       "<div>\n",
       "<style scoped>\n",
       "    .dataframe tbody tr th:only-of-type {\n",
       "        vertical-align: middle;\n",
       "    }\n",
       "\n",
       "    .dataframe tbody tr th {\n",
       "        vertical-align: top;\n",
       "    }\n",
       "\n",
       "    .dataframe thead th {\n",
       "        text-align: right;\n",
       "    }\n",
       "</style>\n",
       "<table border=\"1\" class=\"dataframe\">\n",
       "  <thead>\n",
       "    <tr style=\"text-align: right;\">\n",
       "      <th></th>\n",
       "      <th>iq</th>\n",
       "      <th>birth_month</th>\n",
       "      <th>education</th>\n",
       "    </tr>\n",
       "  </thead>\n",
       "  <tbody>\n",
       "    <tr>\n",
       "      <td>iq</td>\n",
       "      <td>1.000000</td>\n",
       "      <td>0.005196</td>\n",
       "      <td>0.045975</td>\n",
       "    </tr>\n",
       "    <tr>\n",
       "      <td>birth_month</td>\n",
       "      <td>0.005196</td>\n",
       "      <td>1.000000</td>\n",
       "      <td>-0.015272</td>\n",
       "    </tr>\n",
       "    <tr>\n",
       "      <td>education</td>\n",
       "      <td>0.045975</td>\n",
       "      <td>-0.015272</td>\n",
       "      <td>1.000000</td>\n",
       "    </tr>\n",
       "  </tbody>\n",
       "</table>\n",
       "</div>"
      ],
      "text/plain": [
       "                   iq  birth_month  education\n",
       "iq           1.000000     0.005196   0.045975\n",
       "birth_month  0.005196     1.000000  -0.015272\n",
       "education    0.045975    -0.015272   1.000000"
      ]
     },
     "execution_count": 22,
     "metadata": {},
     "output_type": "execute_result"
    }
   ],
   "source": [
    "df.corr()"
   ]
  },
  {
   "cell_type": "code",
   "execution_count": 23,
   "metadata": {},
   "outputs": [
    {
     "data": {
      "text/plain": [
       "Index(['iq', 'birth_month', 'education'], dtype='object')"
      ]
     },
     "execution_count": 23,
     "metadata": {},
     "output_type": "execute_result"
    }
   ],
   "source": [
    "df.columns"
   ]
  },
  {
   "cell_type": "code",
   "execution_count": 24,
   "metadata": {},
   "outputs": [
    {
     "data": {
      "text/plain": [
       "iq             float64\n",
       "birth_month    float64\n",
       "education      float64\n",
       "dtype: object"
      ]
     },
     "execution_count": 24,
     "metadata": {},
     "output_type": "execute_result"
    }
   ],
   "source": [
    "df.dtypes"
   ]
  },
  {
   "cell_type": "code",
   "execution_count": 6,
   "metadata": {},
   "outputs": [
    {
     "data": {
      "text/html": [
       "<div>\n",
       "<style scoped>\n",
       "    .dataframe tbody tr th:only-of-type {\n",
       "        vertical-align: middle;\n",
       "    }\n",
       "\n",
       "    .dataframe tbody tr th {\n",
       "        vertical-align: top;\n",
       "    }\n",
       "\n",
       "    .dataframe thead th {\n",
       "        text-align: right;\n",
       "    }\n",
       "</style>\n",
       "<table border=\"1\" class=\"dataframe\">\n",
       "  <thead>\n",
       "    <tr style=\"text-align: right;\">\n",
       "      <th></th>\n",
       "      <th>id</th>\n",
       "      <th>won_lottry</th>\n",
       "      <th>male</th>\n",
       "      <th>base_age</th>\n",
       "      <th>finish8th</th>\n",
       "      <th>use_fin_aid</th>\n",
       "    </tr>\n",
       "  </thead>\n",
       "  <tbody>\n",
       "    <tr>\n",
       "      <th>count</th>\n",
       "      <td>1171.000000</td>\n",
       "      <td>1171.000000</td>\n",
       "      <td>1171.000000</td>\n",
       "      <td>1171.000000</td>\n",
       "      <td>1171.000000</td>\n",
       "      <td>1171.000000</td>\n",
       "    </tr>\n",
       "    <tr>\n",
       "      <th>mean</th>\n",
       "      <td>1357.010248</td>\n",
       "      <td>0.505551</td>\n",
       "      <td>0.504697</td>\n",
       "      <td>12.004270</td>\n",
       "      <td>0.681469</td>\n",
       "      <td>0.581554</td>\n",
       "    </tr>\n",
       "    <tr>\n",
       "      <th>std</th>\n",
       "      <td>890.711584</td>\n",
       "      <td>0.500183</td>\n",
       "      <td>0.500192</td>\n",
       "      <td>1.347038</td>\n",
       "      <td>0.466106</td>\n",
       "      <td>0.493515</td>\n",
       "    </tr>\n",
       "    <tr>\n",
       "      <th>min</th>\n",
       "      <td>3.000000</td>\n",
       "      <td>0.000000</td>\n",
       "      <td>0.000000</td>\n",
       "      <td>7.000000</td>\n",
       "      <td>0.000000</td>\n",
       "      <td>0.000000</td>\n",
       "    </tr>\n",
       "    <tr>\n",
       "      <th>25%</th>\n",
       "      <td>616.000000</td>\n",
       "      <td>0.000000</td>\n",
       "      <td>0.000000</td>\n",
       "      <td>11.000000</td>\n",
       "      <td>0.000000</td>\n",
       "      <td>0.000000</td>\n",
       "    </tr>\n",
       "    <tr>\n",
       "      <th>50%</th>\n",
       "      <td>1280.000000</td>\n",
       "      <td>1.000000</td>\n",
       "      <td>1.000000</td>\n",
       "      <td>12.000000</td>\n",
       "      <td>1.000000</td>\n",
       "      <td>1.000000</td>\n",
       "    </tr>\n",
       "    <tr>\n",
       "      <th>75%</th>\n",
       "      <td>1982.500000</td>\n",
       "      <td>1.000000</td>\n",
       "      <td>1.000000</td>\n",
       "      <td>13.000000</td>\n",
       "      <td>1.000000</td>\n",
       "      <td>1.000000</td>\n",
       "    </tr>\n",
       "    <tr>\n",
       "      <th>max</th>\n",
       "      <td>4030.000000</td>\n",
       "      <td>1.000000</td>\n",
       "      <td>1.000000</td>\n",
       "      <td>17.000000</td>\n",
       "      <td>1.000000</td>\n",
       "      <td>1.000000</td>\n",
       "    </tr>\n",
       "  </tbody>\n",
       "</table>\n",
       "</div>"
      ],
      "text/plain": [
       "                id   won_lottry         male     base_age    finish8th  \\\n",
       "count  1171.000000  1171.000000  1171.000000  1171.000000  1171.000000   \n",
       "mean   1357.010248     0.505551     0.504697    12.004270     0.681469   \n",
       "std     890.711584     0.500183     0.500192     1.347038     0.466106   \n",
       "min       3.000000     0.000000     0.000000     7.000000     0.000000   \n",
       "25%     616.000000     0.000000     0.000000    11.000000     0.000000   \n",
       "50%    1280.000000     1.000000     1.000000    12.000000     1.000000   \n",
       "75%    1982.500000     1.000000     1.000000    13.000000     1.000000   \n",
       "max    4030.000000     1.000000     1.000000    17.000000     1.000000   \n",
       "\n",
       "       use_fin_aid  \n",
       "count  1171.000000  \n",
       "mean      0.581554  \n",
       "std       0.493515  \n",
       "min       0.000000  \n",
       "25%       0.000000  \n",
       "50%       1.000000  \n",
       "75%       1.000000  \n",
       "max       1.000000  "
      ]
     },
     "execution_count": 6,
     "metadata": {},
     "output_type": "execute_result"
    }
   ],
   "source": [
    "df.describe()"
   ]
  },
  {
   "cell_type": "markdown",
   "metadata": {},
   "source": [
    "# Basic (Naive) analysis"
   ]
  },
  {
   "cell_type": "code",
   "execution_count": 7,
   "metadata": {},
   "outputs": [
    {
     "data": {
      "image/png": "[encoded data removed]",
      "text/plain": [
       "<Figure size 432x288 with 1 Axes>"
      ]
     },
     "metadata": {
      "needs_background": "light"
     },
     "output_type": "display_data"
    }
   ],
   "source": [
    "#%% basic and naive canalysis, comparing averages: did financial aid help?\n",
    "\n",
    "# plot avarage comparing those who received financial aid and those who did not\n",
    "df.groupby('use_fin_aid')['finish8th'].mean().plot(kind = 'bar');"
   ]
  },
  {
   "cell_type": "code",
   "execution_count": 9,
   "metadata": {},
   "outputs": [
    {
     "data": {
      "text/plain": [
       "use_fin_aid\n",
       "0        NaN\n",
       "1    0.13307\n",
       "Name: finish8th, dtype: float64"
      ]
     },
     "execution_count": 9,
     "metadata": {},
     "output_type": "execute_result"
    }
   ],
   "source": [
    "# calculate the absolute and precentage differences\n",
    "\n",
    "df.groupby('use_fin_aid')['finish8th'].mean().diff()"
   ]
  },
  {
   "cell_type": "code",
   "execution_count": 10,
   "metadata": {},
   "outputs": [
    {
     "data": {
      "text/plain": [
       "use_fin_aid\n",
       "0         NaN\n",
       "1    0.220284\n",
       "Name: finish8th, dtype: float64"
      ]
     },
     "execution_count": 10,
     "metadata": {},
     "output_type": "execute_result"
    }
   ],
   "source": [
    "df.groupby('use_fin_aid')['finish8th'].mean().pct_change()"
   ]
  },
  {
   "cell_type": "code",
   "execution_count": 11,
   "metadata": {},
   "outputs": [
    {
     "name": "stdout",
     "output_type": "stream",
     "text": [
      "Optimization terminated successfully.\n",
      "         Current function value: 0.593505\n",
      "         Iterations 5\n"
     ]
    },
    {
     "data": {
      "text/html": [
       "<table class=\"simpletable\">\n",
       "<caption>Logit Regression Results</caption>\n",
       "<tr>\n",
       "  <th>Dep. Variable:</th>     <td>finish8th</td>    <th>  No. Observations:  </th>  <td>  1171</td>  \n",
       "</tr>\n",
       "<tr>\n",
       "  <th>Model:</th>               <td>Logit</td>      <th>  Df Residuals:      </th>  <td>  1167</td>  \n",
       "</tr>\n",
       "<tr>\n",
       "  <th>Method:</th>               <td>MLE</td>       <th>  Df Model:          </th>  <td>     3</td>  \n",
       "</tr>\n",
       "<tr>\n",
       "  <th>Date:</th>          <td>Tue, 30 Oct 2018</td> <th>  Pseudo R-squ.:     </th>  <td>0.05154</td> \n",
       "</tr>\n",
       "<tr>\n",
       "  <th>Time:</th>              <td>02:19:57</td>     <th>  Log-Likelihood:    </th> <td> -694.99</td> \n",
       "</tr>\n",
       "<tr>\n",
       "  <th>converged:</th>           <td>True</td>       <th>  LL-Null:           </th> <td> -732.76</td> \n",
       "</tr>\n",
       "<tr>\n",
       "  <th> </th>                      <td> </td>        <th>  LLR p-value:       </th> <td>2.784e-16</td>\n",
       "</tr>\n",
       "</table>\n",
       "<table class=\"simpletable\">\n",
       "<tr>\n",
       "       <td></td>          <th>coef</th>     <th>std err</th>      <th>z</th>      <th>P>|z|</th>  <th>[0.025</th>    <th>0.975]</th>  \n",
       "</tr>\n",
       "<tr>\n",
       "  <th>Intercept</th>   <td>    4.2496</td> <td>    0.596</td> <td>    7.128</td> <td> 0.000</td> <td>    3.081</td> <td>    5.418</td>\n",
       "</tr>\n",
       "<tr>\n",
       "  <th>use_fin_aid</th> <td>    0.5773</td> <td>    0.130</td> <td>    4.441</td> <td> 0.000</td> <td>    0.323</td> <td>    0.832</td>\n",
       "</tr>\n",
       "<tr>\n",
       "  <th>male</th>        <td>   -0.4192</td> <td>    0.130</td> <td>   -3.216</td> <td> 0.001</td> <td>   -0.675</td> <td>   -0.164</td>\n",
       "</tr>\n",
       "<tr>\n",
       "  <th>base_age</th>    <td>   -0.2967</td> <td>    0.048</td> <td>   -6.156</td> <td> 0.000</td> <td>   -0.391</td> <td>   -0.202</td>\n",
       "</tr>\n",
       "</table>"
      ],
      "text/plain": [
       "<class 'statsmodels.iolib.summary.Summary'>\n",
       "\"\"\"\n",
       "                           Logit Regression Results                           \n",
       "==============================================================================\n",
       "Dep. Variable:              finish8th   No. Observations:                 1171\n",
       "Model:                          Logit   Df Residuals:                     1167\n",
       "Method:                           MLE   Df Model:                            3\n",
       "Date:                Tue, 30 Oct 2018   Pseudo R-squ.:                 0.05154\n",
       "Time:                        02:19:57   Log-Likelihood:                -694.99\n",
       "converged:                       True   LL-Null:                       -732.76\n",
       "                                        LLR p-value:                 2.784e-16\n",
       "===============================================================================\n",
       "                  coef    std err          z      P>|z|      [0.025      0.975]\n",
       "-------------------------------------------------------------------------------\n",
       "Intercept       4.2496      0.596      7.128      0.000       3.081       5.418\n",
       "use_fin_aid     0.5773      0.130      4.441      0.000       0.323       0.832\n",
       "male           -0.4192      0.130     -3.216      0.001      -0.675      -0.164\n",
       "base_age       -0.2967      0.048     -6.156      0.000      -0.391      -0.202\n",
       "===============================================================================\n",
       "\"\"\""
      ]
     },
     "execution_count": 11,
     "metadata": {},
     "output_type": "execute_result"
    }
   ],
   "source": [
    "#%% ordinary regression\n",
    "\n",
    "model = \"finish8th ~ use_fin_aid + male + base_age\"\n",
    "\n",
    "ols_results = sm.formula.logit(model, data = df).fit()\n",
    "\n",
    "ols_results.summary()"
   ]
  },
  {
   "cell_type": "code",
   "execution_count": null,
   "metadata": {},
   "outputs": [],
   "source": [
    "#%% Instrumental variables: Use \"won lottry\" as an instrument\n",
    "\n",
    "# Is there a correlation?"
   ]
  },
  {
   "cell_type": "code",
   "execution_count": 16,
   "metadata": {},
   "outputs": [
    {
     "data": {
      "text/html": [
       "<div>\n",
       "<style scoped>\n",
       "    .dataframe tbody tr th:only-of-type {\n",
       "        vertical-align: middle;\n",
       "    }\n",
       "\n",
       "    .dataframe tbody tr th {\n",
       "        vertical-align: top;\n",
       "    }\n",
       "\n",
       "    .dataframe thead th {\n",
       "        text-align: right;\n",
       "    }\n",
       "</style>\n",
       "<table border=\"1\" class=\"dataframe\">\n",
       "  <thead>\n",
       "    <tr style=\"text-align: right;\">\n",
       "      <th></th>\n",
       "      <th>won_lottry</th>\n",
       "      <th>use_fin_aid</th>\n",
       "    </tr>\n",
       "  </thead>\n",
       "  <tbody>\n",
       "    <tr>\n",
       "      <th>won_lottry</th>\n",
       "      <td>1.000000</td>\n",
       "      <td>0.684598</td>\n",
       "    </tr>\n",
       "    <tr>\n",
       "      <th>use_fin_aid</th>\n",
       "      <td>0.684598</td>\n",
       "      <td>1.000000</td>\n",
       "    </tr>\n",
       "  </tbody>\n",
       "</table>\n",
       "</div>"
      ],
      "text/plain": [
       "             won_lottry  use_fin_aid\n",
       "won_lottry     1.000000     0.684598\n",
       "use_fin_aid    0.684598     1.000000"
      ]
     },
     "execution_count": 16,
     "metadata": {},
     "output_type": "execute_result"
    }
   ],
   "source": [
    "df[['won_lottry', 'use_fin_aid']].corr()"
   ]
  },
  {
   "cell_type": "code",
   "execution_count": null,
   "metadata": {},
   "outputs": [],
   "source": [
    "# First step: Model how lottery (instrument) affects financial aid use"
   ]
  },
  {
   "cell_type": "code",
   "execution_count": 17,
   "metadata": {},
   "outputs": [
    {
     "name": "stdout",
     "output_type": "stream",
     "text": [
      "Optimization terminated successfully.\n",
      "         Current function value: 0.416735\n",
      "         Iterations 6\n"
     ]
    },
    {
     "data": {
      "text/html": [
       "<table class=\"simpletable\">\n",
       "<caption>Logit Regression Results</caption>\n",
       "<tr>\n",
       "  <th>Dep. Variable:</th>    <td>use_fin_aid</td>   <th>  No. Observations:  </th>   <td>  1171</td>  \n",
       "</tr>\n",
       "<tr>\n",
       "  <th>Model:</th>               <td>Logit</td>      <th>  Df Residuals:      </th>   <td>  1167</td>  \n",
       "</tr>\n",
       "<tr>\n",
       "  <th>Method:</th>               <td>MLE</td>       <th>  Df Model:          </th>   <td>     3</td>  \n",
       "</tr>\n",
       "<tr>\n",
       "  <th>Date:</th>          <td>Tue, 30 Oct 2018</td> <th>  Pseudo R-squ.:     </th>   <td>0.3870</td>  \n",
       "</tr>\n",
       "<tr>\n",
       "  <th>Time:</th>              <td>02:24:06</td>     <th>  Log-Likelihood:    </th>  <td> -488.00</td> \n",
       "</tr>\n",
       "<tr>\n",
       "  <th>converged:</th>           <td>True</td>       <th>  LL-Null:           </th>  <td> -796.03</td> \n",
       "</tr>\n",
       "<tr>\n",
       "  <th> </th>                      <td> </td>        <th>  LLR p-value:       </th> <td>3.318e-133</td>\n",
       "</tr>\n",
       "</table>\n",
       "<table class=\"simpletable\">\n",
       "<tr>\n",
       "       <td></td>         <th>coef</th>     <th>std err</th>      <th>z</th>      <th>P>|z|</th>  <th>[0.025</th>    <th>0.975]</th>  \n",
       "</tr>\n",
       "<tr>\n",
       "  <th>Intercept</th>  <td>    0.3455</td> <td>    0.731</td> <td>    0.472</td> <td> 0.637</td> <td>   -1.088</td> <td>    1.779</td>\n",
       "</tr>\n",
       "<tr>\n",
       "  <th>won_lottry</th> <td>    3.5514</td> <td>    0.178</td> <td>   19.934</td> <td> 0.000</td> <td>    3.202</td> <td>    3.901</td>\n",
       "</tr>\n",
       "<tr>\n",
       "  <th>male</th>       <td>   -0.1622</td> <td>    0.164</td> <td>   -0.992</td> <td> 0.321</td> <td>   -0.483</td> <td>    0.158</td>\n",
       "</tr>\n",
       "<tr>\n",
       "  <th>base_age</th>   <td>   -0.1184</td> <td>    0.061</td> <td>   -1.946</td> <td> 0.052</td> <td>   -0.238</td> <td>    0.001</td>\n",
       "</tr>\n",
       "</table>"
      ],
      "text/plain": [
       "<class 'statsmodels.iolib.summary.Summary'>\n",
       "\"\"\"\n",
       "                           Logit Regression Results                           \n",
       "==============================================================================\n",
       "Dep. Variable:            use_fin_aid   No. Observations:                 1171\n",
       "Model:                          Logit   Df Residuals:                     1167\n",
       "Method:                           MLE   Df Model:                            3\n",
       "Date:                Tue, 30 Oct 2018   Pseudo R-squ.:                  0.3870\n",
       "Time:                        02:24:06   Log-Likelihood:                -488.00\n",
       "converged:                       True   LL-Null:                       -796.03\n",
       "                                        LLR p-value:                3.318e-133\n",
       "==============================================================================\n",
       "                 coef    std err          z      P>|z|      [0.025      0.975]\n",
       "------------------------------------------------------------------------------\n",
       "Intercept      0.3455      0.731      0.472      0.637      -1.088       1.779\n",
       "won_lottry     3.5514      0.178     19.934      0.000       3.202       3.901\n",
       "male          -0.1622      0.164     -0.992      0.321      -0.483       0.158\n",
       "base_age      -0.1184      0.061     -1.946      0.052      -0.238       0.001\n",
       "==============================================================================\n",
       "\"\"\""
      ]
     },
     "execution_count": 17,
     "metadata": {},
     "output_type": "execute_result"
    }
   ],
   "source": [
    "stage1_model = \"use_fin_aid ~ won_lottry + male + base_age\"\n",
    "\n",
    "stage1_results = sm.formula.logit(stage1_model, data = df).fit()\n",
    "\n",
    "stage1_results.summary()"
   ]
  },
  {
   "cell_type": "code",
   "execution_count": 18,
   "metadata": {},
   "outputs": [],
   "source": [
    "# create variable with predicted value from the regression\n",
    "\n",
    "df['predicted_use_fin_aid'] = stage1_results.predict()"
   ]
  },
  {
   "cell_type": "code",
   "execution_count": 19,
   "metadata": {},
   "outputs": [
    {
     "name": "stdout",
     "output_type": "stream",
     "text": [
      "Optimization terminated successfully.\n",
      "         Current function value: 0.594917\n",
      "         Iterations 5\n"
     ]
    },
    {
     "data": {
      "text/html": [
       "<table class=\"simpletable\">\n",
       "<caption>Logit Regression Results</caption>\n",
       "<tr>\n",
       "  <th>Dep. Variable:</th>     <td>finish8th</td>    <th>  No. Observations:  </th>  <td>  1171</td>  \n",
       "</tr>\n",
       "<tr>\n",
       "  <th>Model:</th>               <td>Logit</td>      <th>  Df Residuals:      </th>  <td>  1167</td>  \n",
       "</tr>\n",
       "<tr>\n",
       "  <th>Method:</th>               <td>MLE</td>       <th>  Df Model:          </th>  <td>     3</td>  \n",
       "</tr>\n",
       "<tr>\n",
       "  <th>Date:</th>          <td>Tue, 30 Oct 2018</td> <th>  Pseudo R-squ.:     </th>  <td>0.04928</td> \n",
       "</tr>\n",
       "<tr>\n",
       "  <th>Time:</th>              <td>02:24:43</td>     <th>  Log-Likelihood:    </th> <td> -696.65</td> \n",
       "</tr>\n",
       "<tr>\n",
       "  <th>converged:</th>           <td>True</td>       <th>  LL-Null:           </th> <td> -732.76</td> \n",
       "</tr>\n",
       "<tr>\n",
       "  <th> </th>                      <td> </td>        <th>  LLR p-value:       </th> <td>1.423e-15</td>\n",
       "</tr>\n",
       "</table>\n",
       "<table class=\"simpletable\">\n",
       "<tr>\n",
       "            <td></td>               <th>coef</th>     <th>std err</th>      <th>z</th>      <th>P>|z|</th>  <th>[0.025</th>    <th>0.975]</th>  \n",
       "</tr>\n",
       "<tr>\n",
       "  <th>Intercept</th>             <td>    4.0756</td> <td>    0.604</td> <td>    6.753</td> <td> 0.000</td> <td>    2.893</td> <td>    5.258</td>\n",
       "</tr>\n",
       "<tr>\n",
       "  <th>predicted_use_fin_aid</th> <td>    0.7743</td> <td>    0.192</td> <td>    4.036</td> <td> 0.000</td> <td>    0.398</td> <td>    1.150</td>\n",
       "</tr>\n",
       "<tr>\n",
       "  <th>male</th>                  <td>   -0.4175</td> <td>    0.130</td> <td>   -3.208</td> <td> 0.001</td> <td>   -0.673</td> <td>   -0.162</td>\n",
       "</tr>\n",
       "<tr>\n",
       "  <th>base_age</th>              <td>   -0.2919</td> <td>    0.048</td> <td>   -6.077</td> <td> 0.000</td> <td>   -0.386</td> <td>   -0.198</td>\n",
       "</tr>\n",
       "</table>"
      ],
      "text/plain": [
       "<class 'statsmodels.iolib.summary.Summary'>\n",
       "\"\"\"\n",
       "                           Logit Regression Results                           \n",
       "==============================================================================\n",
       "Dep. Variable:              finish8th   No. Observations:                 1171\n",
       "Model:                          Logit   Df Residuals:                     1167\n",
       "Method:                           MLE   Df Model:                            3\n",
       "Date:                Tue, 30 Oct 2018   Pseudo R-squ.:                 0.04928\n",
       "Time:                        02:24:43   Log-Likelihood:                -696.65\n",
       "converged:                       True   LL-Null:                       -732.76\n",
       "                                        LLR p-value:                 1.423e-15\n",
       "=========================================================================================\n",
       "                            coef    std err          z      P>|z|      [0.025      0.975]\n",
       "-----------------------------------------------------------------------------------------\n",
       "Intercept                 4.0756      0.604      6.753      0.000       2.893       5.258\n",
       "predicted_use_fin_aid     0.7743      0.192      4.036      0.000       0.398       1.150\n",
       "male                     -0.4175      0.130     -3.208      0.001      -0.673      -0.162\n",
       "base_age                 -0.2919      0.048     -6.077      0.000      -0.386      -0.198\n",
       "=========================================================================================\n",
       "\"\"\""
      ]
     },
     "execution_count": 19,
     "metadata": {},
     "output_type": "execute_result"
    }
   ],
   "source": [
    "# Second step: Predict effect using predicted fin. aid as a variable\n",
    "\n",
    "stage2_model = \"finish8th ~ predicted_use_fin_aid + male + base_age\"\n",
    "\n",
    "iv_results = sm.formula.logit(stage2_model, data = df).fit()\n",
    "\n",
    "iv_results.summary()"
   ]
  },
  {
   "cell_type": "code",
   "execution_count": null,
   "metadata": {},
   "outputs": [],
   "source": []
  }
 ],
 "metadata": {
  "kernelspec": {
   "display_name": "Python 3",
   "language": "python",
   "name": "python3"
  },
  "language_info": {
   "codemirror_mode": {
    "name": "ipython",
    "version": 3
   },
   "file_extension": ".py",
   "mimetype": "text/x-python",
   "name": "python",
   "nbconvert_exporter": "python",
   "pygments_lexer": "ipython3",
   "version": "3.7.0"
  },
  "varInspector": {
   "cols": {
    "lenName": 16,
    "lenType": 16,
    "lenVar": 40
   },
   "kernels_config": {
    "python": {
     "delete_cmd_postfix": "",
     "delete_cmd_prefix": "del ",
     "library": "var_list.py",
     "varRefreshCmd": "print(var_dic_list())"
    },
    "r": {
     "delete_cmd_postfix": ") ",
     "delete_cmd_prefix": "rm(",
     "library": "var_list.r",
     "varRefreshCmd": "cat(var_dic_list()) "
    }
   },
   "types_to_exclude": [
    "module",
    "function",
    "builtin_function_or_method",
    "instance",
    "_Feature"
   ],
   "window_display": false
  }
 },
 "nbformat": 4,
 "nbformat_minor": 2
}
