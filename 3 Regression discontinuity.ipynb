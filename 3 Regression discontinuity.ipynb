{
  "nbformat": 4,
  "nbformat_minor": 0,
  "metadata": {
    "anaconda-cloud": {},
    "hide_input": false,
    "kernelspec": {
      "display_name": "Python 3",
      "language": "python",
      "name": "python3"
    },
    "language_info": {
      "codemirror_mode": {
        "name": "ipython",
        "version": 3
      },
      "file_extension": ".py",
      "mimetype": "text/x-python",
      "name": "python",
      "nbconvert_exporter": "python",
      "pygments_lexer": "ipython3",
      "version": "3.6.5"
    },
    "toc": {
      "toc_cell": false,
      "toc_number_sections": true,
      "toc_threshold": 6,
      "toc_window_display": false
    },
    "varInspector": {
      "cols": {
        "lenName": 16,
        "lenType": 16,
        "lenVar": 40
      },
      "kernels_config": {
        "python": {
          "delete_cmd_postfix": "",
          "delete_cmd_prefix": "del ",
          "library": "var_list.py",
          "varRefreshCmd": "print(var_dic_list())"
        },
        "r": {
          "delete_cmd_postfix": ") ",
          "delete_cmd_prefix": "rm(",
          "library": "var_list.r",
          "varRefreshCmd": "cat(var_dic_list()) "
        }
      },
      "types_to_exclude": [
        "module",
        "function",
        "builtin_function_or_method",
        "instance",
        "_Feature"
      ],
      "window_display": false
    },
    "colab": {
      "name": "3 Regression discontinuity.ipynb",
      "provenance": [],
      "include_colab_link": true
    }
  },
  "cells": [
    {
      "cell_type": "markdown",
      "metadata": {
        "id": "view-in-github",
        "colab_type": "text"
      },
      "source": [
        "<a href=\"https://colab.research.google.com/github/hmelberg/causal/blob/master/3%20Regression%20discontinuity.ipynb\" target=\"_parent\"><img src=\"https://colab.research.google.com/assets/colab-badge.svg\" alt=\"Open In Colab\"/></a>"
      ]
    },
    {
      "cell_type": "markdown",
      "metadata": {
        "id": "KBxxAfA564f_",
        "colab_type": "text"
      },
      "source": [
        "#  Regression Discontinuity"
      ]
    },
    {
      "cell_type": "markdown",
      "metadata": {
        "id": "0aV7BMO764gB",
        "colab_type": "text"
      },
      "source": [
        "Example: Did the introduction of the Uber taxi ervice reduce the number of DUI incidents?\n",
        "\n",
        "Link for data and some comments (external) http://austinclemens.com/blog/2014/06/08/436/"
      ]
    },
    {
      "cell_type": "markdown",
      "metadata": {
        "id": "M5wQdeg964gD",
        "colab_type": "text"
      },
      "source": [
        "## Import key modules"
      ]
    },
    {
      "cell_type": "code",
      "metadata": {
        "id": "oYlagD4u64gE",
        "colab_type": "code",
        "colab": {},
        "outputId": "ab62e510-6f99-4fee-a7dd-f1c2cac25875"
      },
      "source": [
        "import pandas as pd\n",
        "import numpy as np\n",
        "import statsmodels.api as sm\n",
        "import statsmodels.formula.api as smf"
      ],
      "execution_count": null,
      "outputs": [
        {
          "output_type": "stream",
          "text": [
            "/opt/tljh/user/lib/python3.6/importlib/_bootstrap.py:219: RuntimeWarning: numpy.dtype size changed, may indicate binary incompatibility. Expected 96, got 88\n",
            "  return f(*args, **kwds)\n",
            "/opt/tljh/user/lib/python3.6/importlib/_bootstrap.py:219: RuntimeWarning: numpy.dtype size changed, may indicate binary incompatibility. Expected 96, got 88\n",
            "  return f(*args, **kwds)\n",
            "/opt/tljh/user/lib/python3.6/importlib/_bootstrap.py:219: RuntimeWarning: numpy.dtype size changed, may indicate binary incompatibility. Expected 96, got 88\n",
            "  return f(*args, **kwds)\n"
          ],
          "name": "stderr"
        }
      ]
    },
    {
      "cell_type": "markdown",
      "metadata": {
        "id": "LmQsr9NI64gN",
        "colab_type": "text"
      },
      "source": [
        "## Import data to a dataframe (called df)"
      ]
    },
    {
      "cell_type": "code",
      "metadata": {
        "id": "e8qnSley64gO",
        "colab_type": "code",
        "colab": {}
      },
      "source": [
        "df = pd.read_csv('http://www.austinclemens.com/blog/data/uber_replication.csv')\n",
        "#df = pd.read_csv('uber_replication.csv')"
      ],
      "execution_count": null,
      "outputs": []
    },
    {
      "cell_type": "markdown",
      "metadata": {
        "id": "D4ewti1Z64gR",
        "colab_type": "text"
      },
      "source": [
        "## Have a look at the data"
      ]
    },
    {
      "cell_type": "code",
      "metadata": {
        "id": "B4z5i40O64gR",
        "colab_type": "code",
        "colab": {},
        "outputId": "baacf330-bcc8-4926-b2e7-afc10da7b071"
      },
      "source": [
        "df.head(5)"
      ],
      "execution_count": null,
      "outputs": [
        {
          "output_type": "execute_result",
          "data": {
            "text/html": [
              "<div>\n",
              "<style scoped>\n",
              "    .dataframe tbody tr th:only-of-type {\n",
              "        vertical-align: middle;\n",
              "    }\n",
              "\n",
              "    .dataframe tbody tr th {\n",
              "        vertical-align: top;\n",
              "    }\n",
              "\n",
              "    .dataframe thead th {\n",
              "        text-align: right;\n",
              "    }\n",
              "</style>\n",
              "<table border=\"1\" class=\"dataframe\">\n",
              "  <thead>\n",
              "    <tr style=\"text-align: right;\">\n",
              "      <th></th>\n",
              "      <th>marijuana</th>\n",
              "      <th>dayofweek</th>\n",
              "      <th>uber</th>\n",
              "      <th>eventdate</th>\n",
              "      <th>incidents</th>\n",
              "    </tr>\n",
              "  </thead>\n",
              "  <tbody>\n",
              "    <tr>\n",
              "      <th>0</th>\n",
              "      <td>0</td>\n",
              "      <td>Sat</td>\n",
              "      <td>0</td>\n",
              "      <td>0</td>\n",
              "      <td>1</td>\n",
              "    </tr>\n",
              "    <tr>\n",
              "      <th>1</th>\n",
              "      <td>0</td>\n",
              "      <td>Sun</td>\n",
              "      <td>0</td>\n",
              "      <td>1</td>\n",
              "      <td>2</td>\n",
              "    </tr>\n",
              "    <tr>\n",
              "      <th>2</th>\n",
              "      <td>0</td>\n",
              "      <td>Mon</td>\n",
              "      <td>0</td>\n",
              "      <td>2</td>\n",
              "      <td>1</td>\n",
              "    </tr>\n",
              "    <tr>\n",
              "      <th>3</th>\n",
              "      <td>0</td>\n",
              "      <td>Tue</td>\n",
              "      <td>0</td>\n",
              "      <td>3</td>\n",
              "      <td>0</td>\n",
              "    </tr>\n",
              "    <tr>\n",
              "      <th>4</th>\n",
              "      <td>0</td>\n",
              "      <td>Wed</td>\n",
              "      <td>0</td>\n",
              "      <td>4</td>\n",
              "      <td>1</td>\n",
              "    </tr>\n",
              "  </tbody>\n",
              "</table>\n",
              "</div>"
            ],
            "text/plain": [
              "   marijuana dayofweek  uber  eventdate  incidents\n",
              "0          0       Sat     0          0          1\n",
              "1          0       Sun     0          1          2\n",
              "2          0       Mon     0          2          1\n",
              "3          0       Tue     0          3          0\n",
              "4          0       Wed     0          4          1"
            ]
          },
          "metadata": {
            "tags": []
          },
          "execution_count": 3
        }
      ]
    },
    {
      "cell_type": "code",
      "metadata": {
        "id": "K-x0-KY_64gU",
        "colab_type": "code",
        "colab": {},
        "outputId": "03e10d10-d7a1-4a50-fcd8-f3436b5a69cb"
      },
      "source": [
        "df.columns\n"
      ],
      "execution_count": null,
      "outputs": [
        {
          "output_type": "execute_result",
          "data": {
            "text/plain": [
              "Index(['marijuana', 'dayofweek', 'uber', 'eventdate', 'incidents'], dtype='object')"
            ]
          },
          "metadata": {
            "tags": []
          },
          "execution_count": 5
        }
      ]
    },
    {
      "cell_type": "markdown",
      "metadata": {
        "id": "FN5jYIPY64gY",
        "colab_type": "text"
      },
      "source": [
        "## Run regression"
      ]
    },
    {
      "cell_type": "code",
      "metadata": {
        "id": "mKCPgiAq64gZ",
        "colab_type": "code",
        "colab": {}
      },
      "source": [
        "model = 'incidents ~ uber + marijuana + C(dayofweek) + eventdate'"
      ],
      "execution_count": null,
      "outputs": []
    },
    {
      "cell_type": "code",
      "metadata": {
        "id": "far2omwr64gc",
        "colab_type": "code",
        "colab": {}
      },
      "source": [
        "wide_window = smf.ols(formula=model, data=df).fit()"
      ],
      "execution_count": null,
      "outputs": []
    },
    {
      "cell_type": "code",
      "metadata": {
        "id": "gLf0vxql64gf",
        "colab_type": "code",
        "colab": {},
        "outputId": "1ef24a01-138e-428b-e76d-7a19279e9082"
      },
      "source": [
        "wide_window.summary()"
      ],
      "execution_count": null,
      "outputs": [
        {
          "output_type": "execute_result",
          "data": {
            "text/html": [
              "<table class=\"simpletable\">\n",
              "<caption>OLS Regression Results</caption>\n",
              "<tr>\n",
              "  <th>Dep. Variable:</th>        <td>incidents</td>    <th>  R-squared:         </th> <td>   0.351</td> \n",
              "</tr>\n",
              "<tr>\n",
              "  <th>Model:</th>                   <td>OLS</td>       <th>  Adj. R-squared:    </th> <td>   0.347</td> \n",
              "</tr>\n",
              "<tr>\n",
              "  <th>Method:</th>             <td>Least Squares</td>  <th>  F-statistic:       </th> <td>   85.03</td> \n",
              "</tr>\n",
              "<tr>\n",
              "  <th>Date:</th>             <td>Mon, 29 Oct 2018</td> <th>  Prob (F-statistic):</th> <td>3.50e-126</td>\n",
              "</tr>\n",
              "<tr>\n",
              "  <th>Time:</th>                 <td>23:42:02</td>     <th>  Log-Likelihood:    </th> <td> -3632.0</td> \n",
              "</tr>\n",
              "<tr>\n",
              "  <th>No. Observations:</th>      <td>  1422</td>      <th>  AIC:               </th> <td>   7284.</td> \n",
              "</tr>\n",
              "<tr>\n",
              "  <th>Df Residuals:</th>          <td>  1412</td>      <th>  BIC:               </th> <td>   7337.</td> \n",
              "</tr>\n",
              "<tr>\n",
              "  <th>Df Model:</th>              <td>     9</td>      <th>                     </th>     <td> </td>    \n",
              "</tr>\n",
              "<tr>\n",
              "  <th>Covariance Type:</th>      <td>nonrobust</td>    <th>                     </th>     <td> </td>    \n",
              "</tr>\n",
              "</table>\n",
              "<table class=\"simpletable\">\n",
              "<tr>\n",
              "           <td></td>              <th>coef</th>     <th>std err</th>      <th>t</th>      <th>P>|t|</th>  <th>[0.025</th>    <th>0.975]</th>  \n",
              "</tr>\n",
              "<tr>\n",
              "  <th>Intercept</th>           <td>    5.5765</td> <td>    0.282</td> <td>   19.763</td> <td> 0.000</td> <td>    5.023</td> <td>    6.130</td>\n",
              "</tr>\n",
              "<tr>\n",
              "  <th>C(dayofweek)[T.Mon]</th> <td>   -2.5918</td> <td>    0.310</td> <td>   -8.362</td> <td> 0.000</td> <td>   -3.200</td> <td>   -1.984</td>\n",
              "</tr>\n",
              "<tr>\n",
              "  <th>C(dayofweek)[T.Sat]</th> <td>    2.1619</td> <td>    0.310</td> <td>    6.984</td> <td> 0.000</td> <td>    1.555</td> <td>    2.769</td>\n",
              "</tr>\n",
              "<tr>\n",
              "  <th>C(dayofweek)[T.Sun]</th> <td>    1.8781</td> <td>    0.310</td> <td>    6.059</td> <td> 0.000</td> <td>    1.270</td> <td>    2.486</td>\n",
              "</tr>\n",
              "<tr>\n",
              "  <th>C(dayofweek)[T.Thu]</th> <td>   -1.3857</td> <td>    0.310</td> <td>   -4.470</td> <td> 0.000</td> <td>   -1.994</td> <td>   -0.778</td>\n",
              "</tr>\n",
              "<tr>\n",
              "  <th>C(dayofweek)[T.Tue]</th> <td>   -2.7464</td> <td>    0.310</td> <td>   -8.860</td> <td> 0.000</td> <td>   -3.354</td> <td>   -2.138</td>\n",
              "</tr>\n",
              "<tr>\n",
              "  <th>C(dayofweek)[T.Wed]</th> <td>   -2.2409</td> <td>    0.310</td> <td>   -7.230</td> <td> 0.000</td> <td>   -2.849</td> <td>   -1.633</td>\n",
              "</tr>\n",
              "<tr>\n",
              "  <th>uber</th>                <td>   -0.6770</td> <td>    0.334</td> <td>   -2.025</td> <td> 0.043</td> <td>   -1.333</td> <td>   -0.021</td>\n",
              "</tr>\n",
              "<tr>\n",
              "  <th>marijuana</th>           <td>    1.4383</td> <td>    0.361</td> <td>    3.984</td> <td> 0.000</td> <td>    0.730</td> <td>    2.146</td>\n",
              "</tr>\n",
              "<tr>\n",
              "  <th>eventdate</th>           <td>    0.0019</td> <td>    0.001</td> <td>    3.234</td> <td> 0.001</td> <td>    0.001</td> <td>    0.003</td>\n",
              "</tr>\n",
              "</table>\n",
              "<table class=\"simpletable\">\n",
              "<tr>\n",
              "  <th>Omnibus:</th>       <td>55.135</td> <th>  Durbin-Watson:     </th> <td>   1.428</td>\n",
              "</tr>\n",
              "<tr>\n",
              "  <th>Prob(Omnibus):</th> <td> 0.000</td> <th>  Jarque-Bera (JB):  </th> <td>  74.141</td>\n",
              "</tr>\n",
              "<tr>\n",
              "  <th>Skew:</th>          <td> 0.388</td> <th>  Prob(JB):          </th> <td>7.95e-17</td>\n",
              "</tr>\n",
              "<tr>\n",
              "  <th>Kurtosis:</th>      <td> 3.806</td> <th>  Cond. No.          </th> <td>6.13e+03</td>\n",
              "</tr>\n",
              "</table><br/><br/>Warnings:<br/>[1] Standard Errors assume that the covariance matrix of the errors is correctly specified.<br/>[2] The condition number is large, 6.13e+03. This might indicate that there are<br/>strong multicollinearity or other numerical problems."
            ],
            "text/plain": [
              "<class 'statsmodels.iolib.summary.Summary'>\n",
              "\"\"\"\n",
              "                            OLS Regression Results                            \n",
              "==============================================================================\n",
              "Dep. Variable:              incidents   R-squared:                       0.351\n",
              "Model:                            OLS   Adj. R-squared:                  0.347\n",
              "Method:                 Least Squares   F-statistic:                     85.03\n",
              "Date:                Mon, 29 Oct 2018   Prob (F-statistic):          3.50e-126\n",
              "Time:                        23:42:02   Log-Likelihood:                -3632.0\n",
              "No. Observations:                1422   AIC:                             7284.\n",
              "Df Residuals:                    1412   BIC:                             7337.\n",
              "Df Model:                           9                                         \n",
              "Covariance Type:            nonrobust                                         \n",
              "=======================================================================================\n",
              "                          coef    std err          t      P>|t|      [0.025      0.975]\n",
              "---------------------------------------------------------------------------------------\n",
              "Intercept               5.5765      0.282     19.763      0.000       5.023       6.130\n",
              "C(dayofweek)[T.Mon]    -2.5918      0.310     -8.362      0.000      -3.200      -1.984\n",
              "C(dayofweek)[T.Sat]     2.1619      0.310      6.984      0.000       1.555       2.769\n",
              "C(dayofweek)[T.Sun]     1.8781      0.310      6.059      0.000       1.270       2.486\n",
              "C(dayofweek)[T.Thu]    -1.3857      0.310     -4.470      0.000      -1.994      -0.778\n",
              "C(dayofweek)[T.Tue]    -2.7464      0.310     -8.860      0.000      -3.354      -2.138\n",
              "C(dayofweek)[T.Wed]    -2.2409      0.310     -7.230      0.000      -2.849      -1.633\n",
              "uber                   -0.6770      0.334     -2.025      0.043      -1.333      -0.021\n",
              "marijuana               1.4383      0.361      3.984      0.000       0.730       2.146\n",
              "eventdate               0.0019      0.001      3.234      0.001       0.001       0.003\n",
              "==============================================================================\n",
              "Omnibus:                       55.135   Durbin-Watson:                   1.428\n",
              "Prob(Omnibus):                  0.000   Jarque-Bera (JB):               74.141\n",
              "Skew:                           0.388   Prob(JB):                     7.95e-17\n",
              "Kurtosis:                       3.806   Cond. No.                     6.13e+03\n",
              "==============================================================================\n",
              "\n",
              "Warnings:\n",
              "[1] Standard Errors assume that the covariance matrix of the errors is correctly specified.\n",
              "[2] The condition number is large, 6.13e+03. This might indicate that there are\n",
              "strong multicollinearity or other numerical problems.\n",
              "\"\"\""
            ]
          },
          "metadata": {
            "tags": []
          },
          "execution_count": 14
        }
      ]
    },
    {
      "cell_type": "code",
      "metadata": {
        "id": "Gw-dYl4N64gi",
        "colab_type": "code",
        "colab": {},
        "outputId": "535ac777-8643-4efc-d1dc-50369fa9f02e"
      },
      "source": [
        "df.uber[380:400]"
      ],
      "execution_count": null,
      "outputs": [
        {
          "output_type": "execute_result",
          "data": {
            "text/plain": [
              "380    0\n",
              "381    0\n",
              "382    0\n",
              "383    0\n",
              "384    0\n",
              "385    0\n",
              "386    0\n",
              "387    0\n",
              "388    0\n",
              "389    0\n",
              "390    0\n",
              "391    1\n",
              "392    1\n",
              "393    1\n",
              "394    1\n",
              "395    1\n",
              "396    1\n",
              "397    1\n",
              "398    1\n",
              "399    1\n",
              "Name: uber, dtype: int64"
            ]
          },
          "metadata": {
            "tags": []
          },
          "execution_count": 26
        }
      ]
    },
    {
      "cell_type": "markdown",
      "metadata": {
        "id": "o0lutoTY64gl",
        "colab_type": "text"
      },
      "source": [
        "# Change bandwidth (window)"
      ]
    },
    {
      "cell_type": "markdown",
      "metadata": {
        "id": "G6zHoI6y64gl",
        "colab_type": "text"
      },
      "source": [
        "## Focus only on the days around when uber was introduced"
      ]
    },
    {
      "cell_type": "code",
      "metadata": {
        "id": "Le_eBx4064gm",
        "colab_type": "code",
        "colab": {},
        "outputId": "7ef60780-25bd-4d06-e224-59388965acc7"
      },
      "source": [
        "df[380:400]"
      ],
      "execution_count": null,
      "outputs": [
        {
          "output_type": "execute_result",
          "data": {
            "text/html": [
              "<div>\n",
              "<style scoped>\n",
              "    .dataframe tbody tr th:only-of-type {\n",
              "        vertical-align: middle;\n",
              "    }\n",
              "\n",
              "    .dataframe tbody tr th {\n",
              "        vertical-align: top;\n",
              "    }\n",
              "\n",
              "    .dataframe thead th {\n",
              "        text-align: right;\n",
              "    }\n",
              "</style>\n",
              "<table border=\"1\" class=\"dataframe\">\n",
              "  <thead>\n",
              "    <tr style=\"text-align: right;\">\n",
              "      <th></th>\n",
              "      <th>marijuana</th>\n",
              "      <th>dayofweek</th>\n",
              "      <th>uber</th>\n",
              "      <th>eventdate</th>\n",
              "      <th>incidents</th>\n",
              "    </tr>\n",
              "  </thead>\n",
              "  <tbody>\n",
              "    <tr>\n",
              "      <th>380</th>\n",
              "      <td>0</td>\n",
              "      <td>Mon</td>\n",
              "      <td>0</td>\n",
              "      <td>380</td>\n",
              "      <td>7</td>\n",
              "    </tr>\n",
              "    <tr>\n",
              "      <th>381</th>\n",
              "      <td>0</td>\n",
              "      <td>Tue</td>\n",
              "      <td>0</td>\n",
              "      <td>381</td>\n",
              "      <td>2</td>\n",
              "    </tr>\n",
              "    <tr>\n",
              "      <th>382</th>\n",
              "      <td>0</td>\n",
              "      <td>Wed</td>\n",
              "      <td>0</td>\n",
              "      <td>382</td>\n",
              "      <td>9</td>\n",
              "    </tr>\n",
              "    <tr>\n",
              "      <th>383</th>\n",
              "      <td>0</td>\n",
              "      <td>Thu</td>\n",
              "      <td>0</td>\n",
              "      <td>383</td>\n",
              "      <td>5</td>\n",
              "    </tr>\n",
              "    <tr>\n",
              "      <th>384</th>\n",
              "      <td>0</td>\n",
              "      <td>Fri</td>\n",
              "      <td>0</td>\n",
              "      <td>384</td>\n",
              "      <td>7</td>\n",
              "    </tr>\n",
              "    <tr>\n",
              "      <th>385</th>\n",
              "      <td>0</td>\n",
              "      <td>Sat</td>\n",
              "      <td>0</td>\n",
              "      <td>385</td>\n",
              "      <td>10</td>\n",
              "    </tr>\n",
              "    <tr>\n",
              "      <th>386</th>\n",
              "      <td>0</td>\n",
              "      <td>Sun</td>\n",
              "      <td>0</td>\n",
              "      <td>386</td>\n",
              "      <td>9</td>\n",
              "    </tr>\n",
              "    <tr>\n",
              "      <th>387</th>\n",
              "      <td>0</td>\n",
              "      <td>Mon</td>\n",
              "      <td>0</td>\n",
              "      <td>387</td>\n",
              "      <td>1</td>\n",
              "    </tr>\n",
              "    <tr>\n",
              "      <th>388</th>\n",
              "      <td>0</td>\n",
              "      <td>Tue</td>\n",
              "      <td>0</td>\n",
              "      <td>388</td>\n",
              "      <td>3</td>\n",
              "    </tr>\n",
              "    <tr>\n",
              "      <th>389</th>\n",
              "      <td>0</td>\n",
              "      <td>Wed</td>\n",
              "      <td>0</td>\n",
              "      <td>389</td>\n",
              "      <td>6</td>\n",
              "    </tr>\n",
              "    <tr>\n",
              "      <th>390</th>\n",
              "      <td>0</td>\n",
              "      <td>Thu</td>\n",
              "      <td>0</td>\n",
              "      <td>390</td>\n",
              "      <td>9</td>\n",
              "    </tr>\n",
              "    <tr>\n",
              "      <th>391</th>\n",
              "      <td>0</td>\n",
              "      <td>Fri</td>\n",
              "      <td>1</td>\n",
              "      <td>391</td>\n",
              "      <td>7</td>\n",
              "    </tr>\n",
              "    <tr>\n",
              "      <th>392</th>\n",
              "      <td>0</td>\n",
              "      <td>Sat</td>\n",
              "      <td>1</td>\n",
              "      <td>392</td>\n",
              "      <td>10</td>\n",
              "    </tr>\n",
              "    <tr>\n",
              "      <th>393</th>\n",
              "      <td>0</td>\n",
              "      <td>Sun</td>\n",
              "      <td>1</td>\n",
              "      <td>393</td>\n",
              "      <td>9</td>\n",
              "    </tr>\n",
              "    <tr>\n",
              "      <th>394</th>\n",
              "      <td>0</td>\n",
              "      <td>Mon</td>\n",
              "      <td>1</td>\n",
              "      <td>394</td>\n",
              "      <td>7</td>\n",
              "    </tr>\n",
              "    <tr>\n",
              "      <th>395</th>\n",
              "      <td>0</td>\n",
              "      <td>Tue</td>\n",
              "      <td>1</td>\n",
              "      <td>395</td>\n",
              "      <td>2</td>\n",
              "    </tr>\n",
              "    <tr>\n",
              "      <th>396</th>\n",
              "      <td>0</td>\n",
              "      <td>Wed</td>\n",
              "      <td>1</td>\n",
              "      <td>396</td>\n",
              "      <td>9</td>\n",
              "    </tr>\n",
              "    <tr>\n",
              "      <th>397</th>\n",
              "      <td>0</td>\n",
              "      <td>Thu</td>\n",
              "      <td>1</td>\n",
              "      <td>397</td>\n",
              "      <td>6</td>\n",
              "    </tr>\n",
              "    <tr>\n",
              "      <th>398</th>\n",
              "      <td>0</td>\n",
              "      <td>Fri</td>\n",
              "      <td>1</td>\n",
              "      <td>398</td>\n",
              "      <td>3</td>\n",
              "    </tr>\n",
              "    <tr>\n",
              "      <th>399</th>\n",
              "      <td>0</td>\n",
              "      <td>Sat</td>\n",
              "      <td>1</td>\n",
              "      <td>399</td>\n",
              "      <td>15</td>\n",
              "    </tr>\n",
              "  </tbody>\n",
              "</table>\n",
              "</div>"
            ],
            "text/plain": [
              "     marijuana dayofweek  uber  eventdate  incidents\n",
              "380          0       Mon     0        380          7\n",
              "381          0       Tue     0        381          2\n",
              "382          0       Wed     0        382          9\n",
              "383          0       Thu     0        383          5\n",
              "384          0       Fri     0        384          7\n",
              "385          0       Sat     0        385         10\n",
              "386          0       Sun     0        386          9\n",
              "387          0       Mon     0        387          1\n",
              "388          0       Tue     0        388          3\n",
              "389          0       Wed     0        389          6\n",
              "390          0       Thu     0        390          9\n",
              "391          0       Fri     1        391          7\n",
              "392          0       Sat     1        392         10\n",
              "393          0       Sun     1        393          9\n",
              "394          0       Mon     1        394          7\n",
              "395          0       Tue     1        395          2\n",
              "396          0       Wed     1        396          9\n",
              "397          0       Thu     1        397          6\n",
              "398          0       Fri     1        398          3\n",
              "399          0       Sat     1        399         15"
            ]
          },
          "metadata": {
            "tags": []
          },
          "execution_count": 30
        }
      ]
    },
    {
      "cell_type": "code",
      "metadata": {
        "id": "MgJYRHyX64gq",
        "colab_type": "code",
        "colab": {},
        "outputId": "0949b045-6c2b-4bac-eb68-0b5ecafbfc89"
      },
      "source": [
        "# try window of 100 days before and after here. Feel free to try other dates\n",
        "data_window= df.query('390.5 - 100 < eventdate < 390.5 + 100')\n",
        "other_window = smf.ols(formula=model, data=data_window).fit()\n",
        "other_window.summary()"
      ],
      "execution_count": null,
      "outputs": [
        {
          "output_type": "stream",
          "text": [
            "/opt/tljh/user/lib/python3.6/site-packages/statsmodels/regression/linear_model.py:1633: RuntimeWarning: divide by zero encountered in double_scalars\n",
            "  return np.sqrt(eigvals[0]/eigvals[-1])\n",
            "/opt/tljh/user/lib/python3.6/site-packages/statsmodels/base/model.py:1100: RuntimeWarning: invalid value encountered in true_divide\n",
            "  return self.params / self.bse\n",
            "/opt/tljh/user/lib/python3.6/site-packages/scipy/stats/_distn_infrastructure.py:879: RuntimeWarning: invalid value encountered in greater\n",
            "  return (self.a < x) & (x < self.b)\n",
            "/opt/tljh/user/lib/python3.6/site-packages/scipy/stats/_distn_infrastructure.py:879: RuntimeWarning: invalid value encountered in less\n",
            "  return (self.a < x) & (x < self.b)\n",
            "/opt/tljh/user/lib/python3.6/site-packages/scipy/stats/_distn_infrastructure.py:1821: RuntimeWarning: invalid value encountered in less_equal\n",
            "  cond2 = cond0 & (x <= self.a)\n"
          ],
          "name": "stderr"
        },
        {
          "output_type": "execute_result",
          "data": {
            "text/html": [
              "<table class=\"simpletable\">\n",
              "<caption>OLS Regression Results</caption>\n",
              "<tr>\n",
              "  <th>Dep. Variable:</th>        <td>incidents</td>    <th>  R-squared:         </th> <td>   0.396</td>\n",
              "</tr>\n",
              "<tr>\n",
              "  <th>Model:</th>                   <td>OLS</td>       <th>  Adj. R-squared:    </th> <td>   0.371</td>\n",
              "</tr>\n",
              "<tr>\n",
              "  <th>Method:</th>             <td>Least Squares</td>  <th>  F-statistic:       </th> <td>   15.68</td>\n",
              "</tr>\n",
              "<tr>\n",
              "  <th>Date:</th>             <td>Tue, 30 Oct 2018</td> <th>  Prob (F-statistic):</th> <td>1.16e-17</td>\n",
              "</tr>\n",
              "<tr>\n",
              "  <th>Time:</th>                 <td>00:05:27</td>     <th>  Log-Likelihood:    </th> <td> -457.69</td>\n",
              "</tr>\n",
              "<tr>\n",
              "  <th>No. Observations:</th>      <td>   200</td>      <th>  AIC:               </th> <td>   933.4</td>\n",
              "</tr>\n",
              "<tr>\n",
              "  <th>Df Residuals:</th>          <td>   191</td>      <th>  BIC:               </th> <td>   963.1</td>\n",
              "</tr>\n",
              "<tr>\n",
              "  <th>Df Model:</th>              <td>     8</td>      <th>                     </th>     <td> </td>   \n",
              "</tr>\n",
              "<tr>\n",
              "  <th>Covariance Type:</th>      <td>nonrobust</td>    <th>                     </th>     <td> </td>   \n",
              "</tr>\n",
              "</table>\n",
              "<table class=\"simpletable\">\n",
              "<tr>\n",
              "           <td></td>              <th>coef</th>     <th>std err</th>      <th>t</th>      <th>P>|t|</th>  <th>[0.025</th>    <th>0.975]</th>  \n",
              "</tr>\n",
              "<tr>\n",
              "  <th>Intercept</th>           <td>    6.0356</td> <td>    2.087</td> <td>    2.891</td> <td> 0.004</td> <td>    1.918</td> <td>   10.153</td>\n",
              "</tr>\n",
              "<tr>\n",
              "  <th>C(dayofweek)[T.Mon]</th> <td>   -0.9692</td> <td>    0.647</td> <td>   -1.498</td> <td> 0.136</td> <td>   -2.245</td> <td>    0.307</td>\n",
              "</tr>\n",
              "<tr>\n",
              "  <th>C(dayofweek)[T.Sat]</th> <td>    3.4838</td> <td>    0.641</td> <td>    5.434</td> <td> 0.000</td> <td>    2.219</td> <td>    4.748</td>\n",
              "</tr>\n",
              "<tr>\n",
              "  <th>C(dayofweek)[T.Sun]</th> <td>    2.6369</td> <td>    0.647</td> <td>    4.076</td> <td> 0.000</td> <td>    1.361</td> <td>    3.913</td>\n",
              "</tr>\n",
              "<tr>\n",
              "  <th>C(dayofweek)[T.Thu]</th> <td>   -0.5099</td> <td>    0.641</td> <td>   -0.795</td> <td> 0.428</td> <td>   -1.775</td> <td>    0.755</td>\n",
              "</tr>\n",
              "<tr>\n",
              "  <th>C(dayofweek)[T.Tue]</th> <td>   -2.0753</td> <td>    0.647</td> <td>   -3.208</td> <td> 0.002</td> <td>   -3.352</td> <td>   -0.799</td>\n",
              "</tr>\n",
              "<tr>\n",
              "  <th>C(dayofweek)[T.Wed]</th> <td>   -0.9247</td> <td>    0.641</td> <td>   -1.442</td> <td> 0.151</td> <td>   -2.190</td> <td>    0.340</td>\n",
              "</tr>\n",
              "<tr>\n",
              "  <th>uber</th>                <td>   -0.7561</td> <td>    0.691</td> <td>   -1.094</td> <td> 0.275</td> <td>   -2.119</td> <td>    0.607</td>\n",
              "</tr>\n",
              "<tr>\n",
              "  <th>marijuana</th>           <td>         0</td> <td>        0</td> <td>      nan</td> <td>   nan</td> <td>        0</td> <td>        0</td>\n",
              "</tr>\n",
              "<tr>\n",
              "  <th>eventdate</th>           <td>   -0.0010</td> <td>    0.006</td> <td>   -0.172</td> <td> 0.863</td> <td>   -0.013</td> <td>    0.011</td>\n",
              "</tr>\n",
              "</table>\n",
              "<table class=\"simpletable\">\n",
              "<tr>\n",
              "  <th>Omnibus:</th>       <td> 2.669</td> <th>  Durbin-Watson:     </th> <td>   2.154</td>\n",
              "</tr>\n",
              "<tr>\n",
              "  <th>Prob(Omnibus):</th> <td> 0.263</td> <th>  Jarque-Bera (JB):  </th> <td>   2.777</td>\n",
              "</tr>\n",
              "<tr>\n",
              "  <th>Skew:</th>          <td>-0.003</td> <th>  Prob(JB):          </th> <td>   0.249</td>\n",
              "</tr>\n",
              "<tr>\n",
              "  <th>Kurtosis:</th>      <td> 3.577</td> <th>  Cond. No.          </th> <td>     inf</td>\n",
              "</tr>\n",
              "</table><br/><br/>Warnings:<br/>[1] Standard Errors assume that the covariance matrix of the errors is correctly specified.<br/>[2] The smallest eigenvalue is      0. This might indicate that there are<br/>strong multicollinearity problems or that the design matrix is singular."
            ],
            "text/plain": [
              "<class 'statsmodels.iolib.summary.Summary'>\n",
              "\"\"\"\n",
              "                            OLS Regression Results                            \n",
              "==============================================================================\n",
              "Dep. Variable:              incidents   R-squared:                       0.396\n",
              "Model:                            OLS   Adj. R-squared:                  0.371\n",
              "Method:                 Least Squares   F-statistic:                     15.68\n",
              "Date:                Tue, 30 Oct 2018   Prob (F-statistic):           1.16e-17\n",
              "Time:                        00:05:27   Log-Likelihood:                -457.69\n",
              "No. Observations:                 200   AIC:                             933.4\n",
              "Df Residuals:                     191   BIC:                             963.1\n",
              "Df Model:                           8                                         \n",
              "Covariance Type:            nonrobust                                         \n",
              "=======================================================================================\n",
              "                          coef    std err          t      P>|t|      [0.025      0.975]\n",
              "---------------------------------------------------------------------------------------\n",
              "Intercept               6.0356      2.087      2.891      0.004       1.918      10.153\n",
              "C(dayofweek)[T.Mon]    -0.9692      0.647     -1.498      0.136      -2.245       0.307\n",
              "C(dayofweek)[T.Sat]     3.4838      0.641      5.434      0.000       2.219       4.748\n",
              "C(dayofweek)[T.Sun]     2.6369      0.647      4.076      0.000       1.361       3.913\n",
              "C(dayofweek)[T.Thu]    -0.5099      0.641     -0.795      0.428      -1.775       0.755\n",
              "C(dayofweek)[T.Tue]    -2.0753      0.647     -3.208      0.002      -3.352      -0.799\n",
              "C(dayofweek)[T.Wed]    -0.9247      0.641     -1.442      0.151      -2.190       0.340\n",
              "uber                   -0.7561      0.691     -1.094      0.275      -2.119       0.607\n",
              "marijuana                    0          0        nan        nan           0           0\n",
              "eventdate              -0.0010      0.006     -0.172      0.863      -0.013       0.011\n",
              "==============================================================================\n",
              "Omnibus:                        2.669   Durbin-Watson:                   2.154\n",
              "Prob(Omnibus):                  0.263   Jarque-Bera (JB):                2.777\n",
              "Skew:                          -0.003   Prob(JB):                        0.249\n",
              "Kurtosis:                       3.577   Cond. No.                          inf\n",
              "==============================================================================\n",
              "\n",
              "Warnings:\n",
              "[1] Standard Errors assume that the covariance matrix of the errors is correctly specified.\n",
              "[2] The smallest eigenvalue is      0. This might indicate that there are\n",
              "strong multicollinearity problems or that the design matrix is singular.\n",
              "\"\"\""
            ]
          },
          "metadata": {
            "tags": []
          },
          "execution_count": 38
        }
      ]
    },
    {
      "cell_type": "code",
      "metadata": {
        "id": "6T2b535o64gu",
        "colab_type": "code",
        "colab": {}
      },
      "source": [
        ""
      ],
      "execution_count": null,
      "outputs": []
    }
  ]
}