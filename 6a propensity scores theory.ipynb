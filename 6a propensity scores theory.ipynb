{
 "cells": [
  {
   "cell_type": "markdown",
   "metadata": {},
   "source": [
    "# Propensity Score Analysis"
   ]
  },
  {
   "cell_type": "markdown",
   "metadata": {},
   "source": [
    "### What? "
   ]
  },
  {
   "cell_type": "markdown",
   "metadata": {},
   "source": [
    "- A method to identify the causal effect of one variable (the treatment, d) on another (the outcome, y) \n",
    "- In one sentence: Compare the outcome for individuals (or units) who are as similar as possible.\n",
    "- In three sentences: Use all the confounding variables in a logistic regression to estimate the probability of receiving the treatment (the propensity score) for each individual. Next, compare the outcome for each individual who receive treatment with one or more who have not received treatment who have the same propensity score. The treatment effect is the average for all those comparisons.\n",
    "- Example: Effect of moderate consumption of alcohol (d) on mortality (y)"
   ]
  },
  {
   "cell_type": "markdown",
   "metadata": {},
   "source": [
    "### Why can't we just run a simple regression?"
   ]
  },
  {
   "cell_type": "markdown",
   "metadata": {},
   "source": [
    "- We could, and you would get similar result given certain assumptions (causal effect is constant, all confounding variables are included, all standard regression assumptions are OK).\n",
    "- In practice there are some difference because in many cases all assumptions are not fulfilled\n",
    "- These differences do not imply that one is always better, but that OLS and PSA have different strengths and weaknesses \n",
    "- The choice wil then depend on the data you have data and the assumptions you are wiling to make \n",
    "- In general:\n",
    "    - Standard applied OLS is usually parameteric i.e. you have to make assumptions about the **functional form** of the relationship between the cause and the effect (e.g. linearity). You do not need this in PSA. \n",
    "    - PSA often requires **more observations** than OLS to work well (since it assumes a functional form is can extrapolate between points)\n",
    "    - PSA **explicitly warns the user**, and drops observations, for which it cannot find a good control to compare against. \n",
    "    - OLS has well establoished formulas and algorithms for calculating **the standard error** of the estimates. Estimation of correct standard errors in PSA is more difficult.\n",
    "    - PSA is most intuitive and easy to apply if the **treatment is dichotemous** (treated vs. untreated), while OLS also works fine for continous treatment variables.\n",
    "\n",
    "    \n"
   ]
  },
  {
   "cell_type": "markdown",
   "metadata": {},
   "source": [
    "### Why can't we just use matching?"
   ]
  },
  {
   "cell_type": "markdown",
   "metadata": {},
   "source": [
    "- We could, but often matching requires many more observarions than you have available\n",
    "- Matching: Compare each person who receives treatment with another person who has the same age, gender, severity of disease (and so on), but who have not received the treatment.\n",
    "- **Problem of dimensionality**: Assume you have n variables (age, gender, etc) and you want the individuals you compare to have the same value for each variable: Same age, same gender, same severity etc. How many individuals do you need to make this method work?\n",
    "    - Simplification: \n",
    "        - Each varible can only have two values (Gender: Male vs. Female, Age: Young vs. Old, Severity: Low vs. High).\n",
    "        - Example, one possible subgroup is: old females with low severity\n",
    "    - How many subgroups (s) are there?\n",
    "        - Answer: $s = 2^n$\n",
    "    - With 8 variables, we have 256 possible subgroups and we would like to have many people who are treated and not-treated in each sub-groups in order to do matching\n",
    "    - In this case we would need at the very least more than 512 individuals, but probably and preferrably a lot more (comparing only two individuals in each sub-groups does not inspire confidence!).\n",
    "- Solution: Instead of matching on every single variable, we use all the variables to create a single number (the probability of receiving treatment, also called the propensity score) and we compare individuals who have the same propensity score. This eliminates the problem of dimensionality since we now only need to match individuals on one variable (the propensity score) and not all the variables.\n",
    "- Rubin and Rosenbaum (1983) proved that matching on the propensity score works and give the correct answer (same as matching on each variable).\n",
    "\n",
    "    "
   ]
  },
  {
   "cell_type": "markdown",
   "metadata": {},
   "source": [
    " ### Example"
   ]
  },
  {
   "cell_type": "markdown",
   "metadata": {},
   "source": [
    "- The month you are born may affect number of months of education you get (because you cannot quit before you turn 16, and people turn 16 in different months, but they all start school in the same month), but the month of birth itself may not affect the salary you get.\n",
    "- Step one: Run a regression between education and birth month\n",
    "- Step two: Run a regression between salary and the predicted education based on month of birth"
   ]
  },
  {
   "cell_type": "markdown",
   "metadata": {},
   "source": [
    "### Assumes"
   ]
  },
  {
   "cell_type": "markdown",
   "metadata": {},
   "source": [
    "- The treatment variable and the instrument has to be correlated (correlation between x and z)\n",
    "- No (direct) correlation between the instrument and the outcome (no correlation between z and y)\n",
    "   "
   ]
  },
  {
   "cell_type": "markdown",
   "metadata": {},
   "source": [
    "### Advantage"
   ]
  },
  {
   "cell_type": "markdown",
   "metadata": {},
   "source": [
    "- Requires very little information to identify a causal effect. \n",
    "- We can ignore all potential confounding variables (like IQ) as long as we have an instrument. \n",
    "- Almost magic!\n",
    "    "
   ]
  },
  {
   "cell_type": "markdown",
   "metadata": {},
   "source": [
    "### Extensions"
   ]
  },
  {
   "cell_type": "markdown",
   "metadata": {},
   "source": [
    "- **Case 1: Have information about some confounders, but not all. Solution: Use what you have!**\n",
    "    - First step: Run a regression with the instrument and the treatment variable and the conofounders you have information about\n",
    "    $$x = a + b_0 z + b_1 x_1 + b_2 x_2 $$\n",
    "    \n",
    "    - Second step: Run a regression with the outcome, the confounders and the predicted value of the treatment variable from step one\n",
    "    \n",
    "    $$y = a + b\\hat{x} + + b_1 x_1 + b_2 x_2$$\n",
    " \n",
    " \n",
    "- **Case 2: Have more than one instrument ($z_1$ and $z_2$). Solution: Use all!**\n",
    "     - First step: Run a regression with the instrument and the treatment variable and the conofounders you have information about: \n",
    "     $$x = a + b_0 z_1 + b_1 z_2 $$\n",
    "     - Second step: Run a regression with the outcome, the confounders and the predicted value of the treatment variable from step one: \n",
    "     $$y = a + b\\hat{x} $$"
   ]
  },
  {
   "cell_type": "markdown",
   "metadata": {},
   "source": [
    "### Problems"
   ]
  },
  {
   "cell_type": "markdown",
   "metadata": {},
   "source": [
    "**1. Often difficult to find a good instrument**\n",
    "   - But some common instruments are:\n",
    "        - Situations where a lottery is used (to select who gets health insurance, who has to serve in the army and so on)\n",
    "        - More and more commmon: use genetic information as an instrument\n",
    "            - Example: Effect of obesity on some outcome\n",
    "            - Assume: Have information about genes that are likely to affect obesity, but not the outcome\n",
    "        - Institutional rules and structures \n",
    "            - Example: The rule that you can quit school when you turn 16\n",
    "            - Interesting note: This means that knowledge of history, politics and institutions is an advantage when trying to find instruments! A creative process.\n",
    "\n",
    "**2. Cannot test the second assumption that there is no direct relationship between the instrument and the outcome**\n",
    "   - Maybe month of birth really affects salary?\n",
    "   - Lesson: Instrument requires strong theoretical justification, knowledge of causal mechanisms\n",
    "    \n",
    "**3. Small errors can have large effects on the outcome**\n",
    "   - Small departures from each assumption can have a large effect when combined\n",
    "        - Weak instrument (small correlation between the instrument and the treatment)\n",
    "        - Some correlation between instrument and outcome\n",
    "        --> Potential for large bias\n",
    "\n",
    "**4. Outcome is not really an average effect of treatment, but a local average effect of treatment (LATE)**\n",
    "   - The estimated effect is for those who are affected by the instrument\n",
    "   - Effect of education on salary for those who are likely to quit when they turn 16, not for all youths\n",
    "   - Even more difficult to interpret the estimated effect when there are many instruments\n",
    "       - Average effect of several local effects (those affected by the different instruments)? "
   ]
  }
 ],
 "metadata": {
  "kernelspec": {
   "display_name": "Python 3",
   "language": "python",
   "name": "python3"
  },
  "language_info": {
   "codemirror_mode": {
    "name": "ipython",
    "version": 3
   },
   "file_extension": ".py",
   "mimetype": "text/x-python",
   "name": "python",
   "nbconvert_exporter": "python",
   "pygments_lexer": "ipython3",
   "version": "3.7.0"
  },
  "varInspector": {
   "cols": {
    "lenName": 16,
    "lenType": 16,
    "lenVar": 40
   },
   "kernels_config": {
    "python": {
     "delete_cmd_postfix": "",
     "delete_cmd_prefix": "del ",
     "library": "var_list.py",
     "varRefreshCmd": "print(var_dic_list())"
    },
    "r": {
     "delete_cmd_postfix": ") ",
     "delete_cmd_prefix": "rm(",
     "library": "var_list.r",
     "varRefreshCmd": "cat(var_dic_list()) "
    }
   },
   "types_to_exclude": [
    "module",
    "function",
    "builtin_function_or_method",
    "instance",
    "_Feature"
   ],
   "window_display": false
  }
 },
 "nbformat": 4,
 "nbformat_minor": 2
}
